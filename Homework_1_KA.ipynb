{
 "cells": [
  {
   "cell_type": "markdown",
   "metadata": {
    "id": "uzjyJP9TafjS"
   },
   "source": [
    "# Homework 1\n",
    "\n",
    "In this homework, you'll be creating your own function to perform a mathematical operation on a data frame that you import from an Excel spreadsheet. "
   ]
  },
  {
   "cell_type": "markdown",
   "metadata": {
    "id": "j385grYPa3db"
   },
   "source": [
    "1. Import the `numpy` and `pandas` libraries."
   ]
  },
  {
   "cell_type": "code",
   "execution_count": 1,
   "metadata": {
    "id": "HXIyyAAAaTjY"
   },
   "outputs": [],
   "source": [
    "import numpy as np\n",
    "import pandas as pd"
   ]
  },
  {
   "cell_type": "markdown",
   "metadata": {
    "id": "dvoLVO3Nc4BF"
   },
   "source": [
    "2. Import the spreadsheet `covid_worldwide.csv`, which reports COVID cases and fatalities for each country worldwide (adapted from [Kaggle](https://www.kaggle.com/datasets/themrityunjaypathak/covid-cases-and-deaths-worldwide?resource=download)) and store that information into a variable called `data`. Please use the column called \"Country\" (i.e. the second column from the left) as your index column. Then use `data.head()` to show the start of the data frame.\n",
    "\n",
    "**Hint:** The function `pandas.read_csv()` reads in .csv files, and you can use it in a similar way as we did with `pandas.read_excel()` to read in Excel files in class."
   ]
  },
  {
   "cell_type": "code",
   "execution_count": 2,
   "metadata": {
    "id": "y5OqoTW1gbU8"
   },
   "outputs": [
    {
     "data": {
      "text/html": [
       "<div>\n",
       "<style scoped>\n",
       "    .dataframe tbody tr th:only-of-type {\n",
       "        vertical-align: middle;\n",
       "    }\n",
       "\n",
       "    .dataframe tbody tr th {\n",
       "        vertical-align: top;\n",
       "    }\n",
       "\n",
       "    .dataframe thead th {\n",
       "        text-align: right;\n",
       "    }\n",
       "</style>\n",
       "<table border=\"1\" class=\"dataframe\">\n",
       "  <thead>\n",
       "    <tr style=\"text-align: right;\">\n",
       "      <th></th>\n",
       "      <th>Continent</th>\n",
       "      <th>Total Cases</th>\n",
       "      <th>Total Deaths</th>\n",
       "      <th>Total Recovered</th>\n",
       "      <th>Active Cases</th>\n",
       "      <th>Total Test</th>\n",
       "      <th>Population</th>\n",
       "    </tr>\n",
       "    <tr>\n",
       "      <th>Country</th>\n",
       "      <th></th>\n",
       "      <th></th>\n",
       "      <th></th>\n",
       "      <th></th>\n",
       "      <th></th>\n",
       "      <th></th>\n",
       "      <th></th>\n",
       "    </tr>\n",
       "  </thead>\n",
       "  <tbody>\n",
       "    <tr>\n",
       "      <th>USA</th>\n",
       "      <td>North America</td>\n",
       "      <td>104196861</td>\n",
       "      <td>1132935</td>\n",
       "      <td>101322779</td>\n",
       "      <td>1741147</td>\n",
       "      <td>1.159833e+09</td>\n",
       "      <td>334805269</td>\n",
       "    </tr>\n",
       "    <tr>\n",
       "      <th>India</th>\n",
       "      <td>Asia</td>\n",
       "      <td>44682784</td>\n",
       "      <td>530740</td>\n",
       "      <td>44150289</td>\n",
       "      <td>1755</td>\n",
       "      <td>9.152658e+08</td>\n",
       "      <td>1406631776</td>\n",
       "    </tr>\n",
       "    <tr>\n",
       "      <th>France</th>\n",
       "      <td>Europe</td>\n",
       "      <td>39524311</td>\n",
       "      <td>164233</td>\n",
       "      <td>39264546</td>\n",
       "      <td>95532</td>\n",
       "      <td>2.714902e+08</td>\n",
       "      <td>65584518</td>\n",
       "    </tr>\n",
       "    <tr>\n",
       "      <th>Germany</th>\n",
       "      <td>Europe</td>\n",
       "      <td>37779833</td>\n",
       "      <td>165711</td>\n",
       "      <td>37398100</td>\n",
       "      <td>216022</td>\n",
       "      <td>1.223324e+08</td>\n",
       "      <td>83883596</td>\n",
       "    </tr>\n",
       "    <tr>\n",
       "      <th>Brazil</th>\n",
       "      <td>South America</td>\n",
       "      <td>36824580</td>\n",
       "      <td>697074</td>\n",
       "      <td>35919372</td>\n",
       "      <td>208134</td>\n",
       "      <td>6.377617e+07</td>\n",
       "      <td>215353593</td>\n",
       "    </tr>\n",
       "  </tbody>\n",
       "</table>\n",
       "</div>"
      ],
      "text/plain": [
       "             Continent  Total Cases  Total Deaths  Total Recovered  \\\n",
       "Country                                                              \n",
       "USA      North America    104196861       1132935        101322779   \n",
       "India             Asia     44682784        530740         44150289   \n",
       "France          Europe     39524311        164233         39264546   \n",
       "Germany         Europe     37779833        165711         37398100   \n",
       "Brazil   South America     36824580        697074         35919372   \n",
       "\n",
       "         Active Cases    Total Test  Population  \n",
       "Country                                          \n",
       "USA           1741147  1.159833e+09   334805269  \n",
       "India            1755  9.152658e+08  1406631776  \n",
       "France          95532  2.714902e+08    65584518  \n",
       "Germany        216022  1.223324e+08    83883596  \n",
       "Brazil         208134  6.377617e+07   215353593  "
      ]
     },
     "execution_count": 2,
     "metadata": {},
     "output_type": "execute_result"
    }
   ],
   "source": [
    "\n",
    "\n",
    "file_path = r\"C:\\Users\\Kathleen\\OneDrive\\Documents\\Bioinformatics Spring 2024\\Homework\\Homework 1\\covid_worldwide.csv\"\n",
    "data = pd.read_csv(file_path, index_col=\"Country\")\n",
    "\n",
    "data.head()\n"
   ]
  },
  {
   "cell_type": "markdown",
   "metadata": {
    "id": "wNvFmSFtgbwc"
   },
   "source": [
    "3. Define a function called `geom_mean3` that accepts as input an ndarray with 3 elements, calculates the geometric mean of the elements of the array, and outputs the resulting geometric mean value.\n",
    "\n",
    "**Hints**: The geometric mean formula can be found [here](https://byjus.com/geometric-mean-formula/), and the *n*th root of a value is equivalent to calculating the exponent of (1/*n*)."
   ]
  },
  {
   "cell_type": "code",
   "execution_count": 5,
   "metadata": {
    "id": "T7OX5MHQhpDp"
   },
   "outputs": [],
   "source": [
    "\n",
    "\n",
    "def geom_mean3(arr):\n",
    "    product = np.prod(arr)\n",
    "    geometric_mean = product ** (1/len(arr))\n",
    "    return geometric_mean\n"
   ]
  },
  {
   "cell_type": "markdown",
   "metadata": {},
   "source": [
    "In essence, the 'geom_mean3' function calculates the geometric mean of a list or an array of numbers by multiplying all the numbers together to find their product and then taking the nth root of this product, where n is the total number of numbers. The geometric mean is a type of average that is particularly useful when dealing with products or percentages and represents the central tendency or typical value of a set of numbers by using the product of their values."
   ]
  },
  {
   "cell_type": "markdown",
   "metadata": {
    "id": "pDDSklxNjJp0"
   },
   "source": [
    "4. Create a variable called `Top3Deaths` to store as an ndarray the values of \"Total Deaths\" from the countries represented in the first 3 rows. The first element in the ndarray will be the number of total deaths from the country in the first row of the data frame, the second element in the ndarray will be the number of total deaths from the country in the second row, etc.\n",
    "**Hints**: You will likely need to slice a subset from the data frame using `.iloc[]` or `.loc[]`, and also use `.to_numpy()`"
   ]
  },
  {
   "cell_type": "code",
   "execution_count": 6,
   "metadata": {
    "id": "_S29ZaASjJC3"
   },
   "outputs": [],
   "source": [
    "Top3Deaths = data.iloc[:3]['Total Deaths'].to_numpy()\n"
   ]
  },
  {
   "cell_type": "markdown",
   "metadata": {},
   "source": [
    "This snippet of code is taking a DataFrame named 'data', selecting the first three rows, narrowing this selection down to the column labeled 'Total Deaths', and converting the resulting Series of total deaths for the top three entries into a NumPy array. The resulting NumPy array is then stored in the variable Top3Deaths. This could be used for subsequent analysis or computations where working with NumPy arrays is preferable or necessary."
   ]
  },
  {
   "cell_type": "markdown",
   "metadata": {
    "id": "rB0rb6R4jRN7"
   },
   "source": [
    "5. Use the function that you created in question 3 to calculate the geometric mean of the values in Top3Deaths."
   ]
  },
  {
   "cell_type": "code",
   "execution_count": 7,
   "metadata": {},
   "outputs": [
    {
     "data": {
      "text/plain": [
       "462220.36905394105"
      ]
     },
     "execution_count": 7,
     "metadata": {},
     "output_type": "execute_result"
    }
   ],
   "source": [
    "geometric_mean = geom_mean3(Top3Deaths)\n",
    "geometric_mean\n"
   ]
  }
 ],
 "metadata": {
  "colab": {
   "provenance": []
  },
  "kernelspec": {
   "display_name": "Python 3 (ipykernel)",
   "language": "python",
   "name": "python3"
  },
  "language_info": {
   "codemirror_mode": {
    "name": "ipython",
    "version": 3
   },
   "file_extension": ".py",
   "mimetype": "text/x-python",
   "name": "python",
   "nbconvert_exporter": "python",
   "pygments_lexer": "ipython3",
   "version": "3.12.2"
  }
 },
 "nbformat": 4,
 "nbformat_minor": 1
}
