{
 "cells": [
  {
   "cell_type": "markdown",
   "metadata": {
    "id": "yHNmCrisXP8E"
   },
   "source": [
    "# Homework 2\n",
    "\n",
    "For this homework, you will need to import the file: `covid_worldwide.csv`. "
   ]
  },
  {
   "cell_type": "code",
   "execution_count": 1,
   "metadata": {
    "id": "I8kxEF_7PvDj"
   },
   "outputs": [],
   "source": [
    "import math\n",
    "import numpy as np\n",
    "import pandas as pd\n",
    "import scipy \n",
    "from scipy import stats\n",
    "import statsmodels.stats.multitest as smm\n",
    "import statsmodels.stats.nonparametric as nonparam \n",
    "from statsmodels.formula.api import ols\n"
   ]
  },
  {
   "cell_type": "code",
   "execution_count": 2,
   "metadata": {},
   "outputs": [],
   "source": [
    "import pandas as pd # A way to bring in Data\n",
    "\n",
    "file_path = r\"C:\\Users\\Kathleen\\OneDrive\\Documents\\Bioinformatics Spring 2024\\Homework\\Homework 2\\covid_worldwide.csv\"\n",
    "data = pd.read_csv(file_path)\n"
   ]
  },
  {
   "cell_type": "code",
   "execution_count": 3,
   "metadata": {
    "colab": {
     "base_uri": "https://localhost:8080/",
     "height": 238
    },
    "id": "BvbjsqIUP1b7",
    "outputId": "cc4c137e-8497-452c-e01f-f37f309a898d"
   },
   "outputs": [
    {
     "data": {
      "text/html": [
       "<div>\n",
       "<style scoped>\n",
       "    .dataframe tbody tr th:only-of-type {\n",
       "        vertical-align: middle;\n",
       "    }\n",
       "\n",
       "    .dataframe tbody tr th {\n",
       "        vertical-align: top;\n",
       "    }\n",
       "\n",
       "    .dataframe thead th {\n",
       "        text-align: right;\n",
       "    }\n",
       "</style>\n",
       "<table border=\"1\" class=\"dataframe\">\n",
       "  <thead>\n",
       "    <tr style=\"text-align: right;\">\n",
       "      <th></th>\n",
       "      <th>Continent</th>\n",
       "      <th>Total Cases</th>\n",
       "      <th>Total Deaths</th>\n",
       "      <th>Total Recovered</th>\n",
       "      <th>Active Cases</th>\n",
       "      <th>Total Test</th>\n",
       "      <th>Population</th>\n",
       "    </tr>\n",
       "    <tr>\n",
       "      <th>Country</th>\n",
       "      <th></th>\n",
       "      <th></th>\n",
       "      <th></th>\n",
       "      <th></th>\n",
       "      <th></th>\n",
       "      <th></th>\n",
       "      <th></th>\n",
       "    </tr>\n",
       "  </thead>\n",
       "  <tbody>\n",
       "    <tr>\n",
       "      <th>USA</th>\n",
       "      <td>North America</td>\n",
       "      <td>104196861</td>\n",
       "      <td>1132935</td>\n",
       "      <td>101322779</td>\n",
       "      <td>1741147</td>\n",
       "      <td>1.159833e+09</td>\n",
       "      <td>334805269</td>\n",
       "    </tr>\n",
       "    <tr>\n",
       "      <th>India</th>\n",
       "      <td>Asia</td>\n",
       "      <td>44682784</td>\n",
       "      <td>530740</td>\n",
       "      <td>44150289</td>\n",
       "      <td>1755</td>\n",
       "      <td>9.152658e+08</td>\n",
       "      <td>1406631776</td>\n",
       "    </tr>\n",
       "    <tr>\n",
       "      <th>France</th>\n",
       "      <td>Europe</td>\n",
       "      <td>39524311</td>\n",
       "      <td>164233</td>\n",
       "      <td>39264546</td>\n",
       "      <td>95532</td>\n",
       "      <td>2.714902e+08</td>\n",
       "      <td>65584518</td>\n",
       "    </tr>\n",
       "    <tr>\n",
       "      <th>Germany</th>\n",
       "      <td>Europe</td>\n",
       "      <td>37779833</td>\n",
       "      <td>165711</td>\n",
       "      <td>37398100</td>\n",
       "      <td>216022</td>\n",
       "      <td>1.223324e+08</td>\n",
       "      <td>83883596</td>\n",
       "    </tr>\n",
       "    <tr>\n",
       "      <th>Brazil</th>\n",
       "      <td>South America</td>\n",
       "      <td>36824580</td>\n",
       "      <td>697074</td>\n",
       "      <td>35919372</td>\n",
       "      <td>208134</td>\n",
       "      <td>6.377617e+07</td>\n",
       "      <td>215353593</td>\n",
       "    </tr>\n",
       "  </tbody>\n",
       "</table>\n",
       "</div>"
      ],
      "text/plain": [
       "             Continent  Total Cases  Total Deaths  Total Recovered  \\\n",
       "Country                                                              \n",
       "USA      North America    104196861       1132935        101322779   \n",
       "India             Asia     44682784        530740         44150289   \n",
       "France          Europe     39524311        164233         39264546   \n",
       "Germany         Europe     37779833        165711         37398100   \n",
       "Brazil   South America     36824580        697074         35919372   \n",
       "\n",
       "         Active Cases    Total Test  Population  \n",
       "Country                                          \n",
       "USA           1741147  1.159833e+09   334805269  \n",
       "India            1755  9.152658e+08  1406631776  \n",
       "France          95532  2.714902e+08    65584518  \n",
       "Germany        216022  1.223324e+08    83883596  \n",
       "Brazil         208134  6.377617e+07   215353593  "
      ]
     },
     "execution_count": 3,
     "metadata": {},
     "output_type": "execute_result"
    }
   ],
   "source": [
    "# import covid data to the variable \"data\"\n",
    "data = pd.read_csv(\"covid_worldwide.csv\", index_col=0)\n",
    "data.head()"
   ]
  },
  {
   "cell_type": "markdown",
   "metadata": {
    "id": "QshOnvjkXUWY"
   },
   "source": [
    "1. Add a new column to the data frame called \"Proportion_Fatality,\" the contents of which you will calculate as the ratio of the total deaths for each country relative to the population of that country. Then use `.head()` to show the new version of the data frame that you have created."
   ]
  },
  {
   "cell_type": "code",
   "execution_count": 4,
   "metadata": {
    "id": "rfIZkIr68KRD"
   },
   "outputs": [
    {
     "data": {
      "text/html": [
       "<div>\n",
       "<style scoped>\n",
       "    .dataframe tbody tr th:only-of-type {\n",
       "        vertical-align: middle;\n",
       "    }\n",
       "\n",
       "    .dataframe tbody tr th {\n",
       "        vertical-align: top;\n",
       "    }\n",
       "\n",
       "    .dataframe thead th {\n",
       "        text-align: right;\n",
       "    }\n",
       "</style>\n",
       "<table border=\"1\" class=\"dataframe\">\n",
       "  <thead>\n",
       "    <tr style=\"text-align: right;\">\n",
       "      <th></th>\n",
       "      <th>Continent</th>\n",
       "      <th>Total Cases</th>\n",
       "      <th>Total Deaths</th>\n",
       "      <th>Total Recovered</th>\n",
       "      <th>Active Cases</th>\n",
       "      <th>Total Test</th>\n",
       "      <th>Population</th>\n",
       "      <th>Proportion_Fatality</th>\n",
       "    </tr>\n",
       "    <tr>\n",
       "      <th>Country</th>\n",
       "      <th></th>\n",
       "      <th></th>\n",
       "      <th></th>\n",
       "      <th></th>\n",
       "      <th></th>\n",
       "      <th></th>\n",
       "      <th></th>\n",
       "      <th></th>\n",
       "    </tr>\n",
       "  </thead>\n",
       "  <tbody>\n",
       "    <tr>\n",
       "      <th>USA</th>\n",
       "      <td>North America</td>\n",
       "      <td>104196861</td>\n",
       "      <td>1132935</td>\n",
       "      <td>101322779</td>\n",
       "      <td>1741147</td>\n",
       "      <td>1.159833e+09</td>\n",
       "      <td>334805269</td>\n",
       "      <td>0.003384</td>\n",
       "    </tr>\n",
       "    <tr>\n",
       "      <th>India</th>\n",
       "      <td>Asia</td>\n",
       "      <td>44682784</td>\n",
       "      <td>530740</td>\n",
       "      <td>44150289</td>\n",
       "      <td>1755</td>\n",
       "      <td>9.152658e+08</td>\n",
       "      <td>1406631776</td>\n",
       "      <td>0.000377</td>\n",
       "    </tr>\n",
       "    <tr>\n",
       "      <th>France</th>\n",
       "      <td>Europe</td>\n",
       "      <td>39524311</td>\n",
       "      <td>164233</td>\n",
       "      <td>39264546</td>\n",
       "      <td>95532</td>\n",
       "      <td>2.714902e+08</td>\n",
       "      <td>65584518</td>\n",
       "      <td>0.002504</td>\n",
       "    </tr>\n",
       "    <tr>\n",
       "      <th>Germany</th>\n",
       "      <td>Europe</td>\n",
       "      <td>37779833</td>\n",
       "      <td>165711</td>\n",
       "      <td>37398100</td>\n",
       "      <td>216022</td>\n",
       "      <td>1.223324e+08</td>\n",
       "      <td>83883596</td>\n",
       "      <td>0.001975</td>\n",
       "    </tr>\n",
       "    <tr>\n",
       "      <th>Brazil</th>\n",
       "      <td>South America</td>\n",
       "      <td>36824580</td>\n",
       "      <td>697074</td>\n",
       "      <td>35919372</td>\n",
       "      <td>208134</td>\n",
       "      <td>6.377617e+07</td>\n",
       "      <td>215353593</td>\n",
       "      <td>0.003237</td>\n",
       "    </tr>\n",
       "  </tbody>\n",
       "</table>\n",
       "</div>"
      ],
      "text/plain": [
       "             Continent  Total Cases  Total Deaths  Total Recovered  \\\n",
       "Country                                                              \n",
       "USA      North America    104196861       1132935        101322779   \n",
       "India             Asia     44682784        530740         44150289   \n",
       "France          Europe     39524311        164233         39264546   \n",
       "Germany         Europe     37779833        165711         37398100   \n",
       "Brazil   South America     36824580        697074         35919372   \n",
       "\n",
       "         Active Cases    Total Test  Population  Proportion_Fatality  \n",
       "Country                                                               \n",
       "USA           1741147  1.159833e+09   334805269             0.003384  \n",
       "India            1755  9.152658e+08  1406631776             0.000377  \n",
       "France          95532  2.714902e+08    65584518             0.002504  \n",
       "Germany        216022  1.223324e+08    83883596             0.001975  \n",
       "Brazil         208134  6.377617e+07   215353593             0.003237  "
      ]
     },
     "execution_count": 4,
     "metadata": {},
     "output_type": "execute_result"
    }
   ],
   "source": [
    "data['Proportion_Fatality'] = data['Total Deaths'] / data['Population']\n",
    "data.head()\n"
   ]
  },
  {
   "cell_type": "code",
   "execution_count": null,
   "metadata": {
    "id": "n1gkCd7O8Mje"
   },
   "outputs": [],
   "source": []
  },
  {
   "cell_type": "markdown",
   "metadata": {
    "id": "0dLxYfSWXYIB"
   },
   "source": [
    "2. Use `.describe()` to calculate the mean and the quartiles for \"Total Cases,\" \"Total Deaths,\" \"Total Recovered,\" \"Active Cases,\" and \"Proportion_Fatality\""
   ]
  },
  {
   "cell_type": "code",
   "execution_count": 7,
   "metadata": {},
   "outputs": [
    {
     "data": {
      "text/html": [
       "<div>\n",
       "<style scoped>\n",
       "    .dataframe tbody tr th:only-of-type {\n",
       "        vertical-align: middle;\n",
       "    }\n",
       "\n",
       "    .dataframe tbody tr th {\n",
       "        vertical-align: top;\n",
       "    }\n",
       "\n",
       "    .dataframe thead th {\n",
       "        text-align: right;\n",
       "    }\n",
       "</style>\n",
       "<table border=\"1\" class=\"dataframe\">\n",
       "  <thead>\n",
       "    <tr style=\"text-align: right;\">\n",
       "      <th></th>\n",
       "      <th>Total Cases</th>\n",
       "      <th>Total Deaths</th>\n",
       "      <th>Total Recovered</th>\n",
       "      <th>Active Cases</th>\n",
       "      <th>Proportion_Fatality</th>\n",
       "    </tr>\n",
       "  </thead>\n",
       "  <tbody>\n",
       "    <tr>\n",
       "      <th>count</th>\n",
       "      <td>1.980000e+02</td>\n",
       "      <td>1.980000e+02</td>\n",
       "      <td>1.980000e+02</td>\n",
       "      <td>1.980000e+02</td>\n",
       "      <td>198.000000</td>\n",
       "    </tr>\n",
       "    <tr>\n",
       "      <th>mean</th>\n",
       "      <td>3.281692e+06</td>\n",
       "      <td>3.330404e+04</td>\n",
       "      <td>3.150983e+06</td>\n",
       "      <td>9.740541e+04</td>\n",
       "      <td>0.001264</td>\n",
       "    </tr>\n",
       "    <tr>\n",
       "      <th>std</th>\n",
       "      <td>1.012444e+07</td>\n",
       "      <td>1.117357e+05</td>\n",
       "      <td>9.778318e+06</td>\n",
       "      <td>7.927596e+05</td>\n",
       "      <td>0.001303</td>\n",
       "    </tr>\n",
       "    <tr>\n",
       "      <th>min</th>\n",
       "      <td>3.427000e+03</td>\n",
       "      <td>1.000000e+00</td>\n",
       "      <td>4.380000e+02</td>\n",
       "      <td>0.000000e+00</td>\n",
       "      <td>0.000003</td>\n",
       "    </tr>\n",
       "    <tr>\n",
       "      <th>25%</th>\n",
       "      <td>3.767825e+04</td>\n",
       "      <td>3.112500e+02</td>\n",
       "      <td>3.386625e+04</td>\n",
       "      <td>8.225000e+01</td>\n",
       "      <td>0.000176</td>\n",
       "    </tr>\n",
       "    <tr>\n",
       "      <th>50%</th>\n",
       "      <td>2.920560e+05</td>\n",
       "      <td>3.105500e+03</td>\n",
       "      <td>2.861005e+05</td>\n",
       "      <td>1.323000e+03</td>\n",
       "      <td>0.000836</td>\n",
       "    </tr>\n",
       "    <tr>\n",
       "      <th>75%</th>\n",
       "      <td>1.669268e+06</td>\n",
       "      <td>1.671000e+04</td>\n",
       "      <td>1.648560e+06</td>\n",
       "      <td>1.153650e+04</td>\n",
       "      <td>0.001981</td>\n",
       "    </tr>\n",
       "    <tr>\n",
       "      <th>max</th>\n",
       "      <td>1.041969e+08</td>\n",
       "      <td>1.132935e+06</td>\n",
       "      <td>1.013228e+08</td>\n",
       "      <td>1.095262e+07</td>\n",
       "      <td>0.006500</td>\n",
       "    </tr>\n",
       "  </tbody>\n",
       "</table>\n",
       "</div>"
      ],
      "text/plain": [
       "        Total Cases  Total Deaths  Total Recovered  Active Cases  \\\n",
       "count  1.980000e+02  1.980000e+02     1.980000e+02  1.980000e+02   \n",
       "mean   3.281692e+06  3.330404e+04     3.150983e+06  9.740541e+04   \n",
       "std    1.012444e+07  1.117357e+05     9.778318e+06  7.927596e+05   \n",
       "min    3.427000e+03  1.000000e+00     4.380000e+02  0.000000e+00   \n",
       "25%    3.767825e+04  3.112500e+02     3.386625e+04  8.225000e+01   \n",
       "50%    2.920560e+05  3.105500e+03     2.861005e+05  1.323000e+03   \n",
       "75%    1.669268e+06  1.671000e+04     1.648560e+06  1.153650e+04   \n",
       "max    1.041969e+08  1.132935e+06     1.013228e+08  1.095262e+07   \n",
       "\n",
       "       Proportion_Fatality  \n",
       "count           198.000000  \n",
       "mean              0.001264  \n",
       "std               0.001303  \n",
       "min               0.000003  \n",
       "25%               0.000176  \n",
       "50%               0.000836  \n",
       "75%               0.001981  \n",
       "max               0.006500  "
      ]
     },
     "execution_count": 7,
     "metadata": {},
     "output_type": "execute_result"
    }
   ],
   "source": [
    "data[['Total Cases', 'Total Deaths', 'Total Recovered', 'Active Cases', 'Proportion_Fatality']].describe()\n"
   ]
  },
  {
   "cell_type": "markdown",
   "metadata": {
    "id": "aeGBuZG4Xa5r"
   },
   "source": [
    "3. Use `groupby` to calculate the mean values of \"Total Cases,\" \"Total Deaths,\" \"Total Recovered,\" \"Active Cases,\" and \"Proportion_Fatality\" for each continent. Which continent had the highest proportion fatality?"
   ]
  },
  {
   "cell_type": "code",
   "execution_count": 7,
   "metadata": {},
   "outputs": [
    {
     "name": "stdout",
     "output_type": "stream",
     "text": [
      "The continent with the highest proportion fatality is Europe\n"
     ]
    }
   ],
   "source": [
    "mean_values = data.groupby('Continent').mean()[['Total Cases', 'Total Deaths', 'Total Recovered', 'Active Cases', 'Proportion_Fatality']]\n",
    "highest_fatality_continent = mean_values.sort_values('Proportion_Fatality', ascending=False).iloc[0].name\n",
    "\n",
    "print(f\"The continent with the highest proportion fatality is {highest_fatality_continent}\")\n"
   ]
  },
  {
   "cell_type": "markdown",
   "metadata": {
    "id": "iIS1zI2tXeDp"
   },
   "source": [
    "4. Calculate the standard deviation for the \"Total Deaths\" for North America and South America, and test whether the distributions for the total deaths in North America and South America resemble a normal distribution. Based on these outcomes, would a Student's t-test be the best statistical test for assessing whether the number of Total Deaths is significantly different between North vs. South America? If not, what test should be used to assess whether or not the number of Total Deaths is significantly different between North vs. South America?\n",
    "\n",
    "(**Hint:** for the purposes of this homework, let's say that standard devations within 2-fold are considered pretty similar)."
   ]
  },
  {
   "cell_type": "code",
   "execution_count": 10,
   "metadata": {},
   "outputs": [
    {
     "name": "stdout",
     "output_type": "stream",
     "text": [
      "Standard Deviation for Total Deaths in North America: 224070.34750297182\n",
      "Standard Deviation for Total Deaths in South America: 176310.6509572309\n",
      "p-value for Shapiro-Wilk test in North America: 2.0624363703873938e-10\n",
      "p-value for Shapiro-Wilk test in South America: 4.137254045992115e-06\n"
     ]
    }
   ],
   "source": [
    "from scipy.stats import shapiro \n",
    "\n",
    "north_america_deaths = data.loc[data['Continent'] == 'North America', 'Total Deaths']\n",
    "south_america_deaths = data.loc[data['Continent'] == 'South America', 'Total Deaths']\n",
    "\n",
    "north_america_std = north_america_deaths.std()\n",
    "south_america_std = south_america_deaths.std()\n",
    "\n",
    "print(f\"Standard Deviation for Total Deaths in North America: {north_america_std}\")\n",
    "print(f\"Standard Deviation for Total Deaths in South America: {south_america_std}\")\n",
    "\n",
    "_, p_value_north = shapiro(north_america_deaths)\n",
    "_, p_value_south = shapiro(south_america_deaths)\n",
    "\n",
    "print(f\"p-value for Shapiro-Wilk test in North America: {p_value_north}\")\n",
    "print(f\"p-value for Shapiro-Wilk test in South America: {p_value_south}\")\n"
   ]
  },
  {
   "cell_type": "markdown",
   "metadata": {
    "id": "57P8XCTLXgVh"
   },
   "source": [
    "5. Perform the statistical test of choice to compare the number of Total Deaths between North America and South America (**Hint:** you'll want to select either t-test or Mann-Whitney U-test, depending on your answer from number 4). What is the resulting p-value? Are the number of Total Deaths statistically significantly different between North vs. South America?"
   ]
  },
  {
   "cell_type": "code",
   "execution_count": 9,
   "metadata": {},
   "outputs": [
    {
     "name": "stdout",
     "output_type": "stream",
     "text": [
      "The p-value for the Mann-Whitney U-test is: 0.013799694766113056\n"
     ]
    }
   ],
   "source": [
    "from scipy.stats import mannwhitneyu\n",
    "\n",
    "# Perform Mann-Whitney U-test\n",
    "statistic, p_value = mannwhitneyu(north_america_deaths, south_america_deaths)\n",
    "\n",
    "print(f\"The p-value for the Mann-Whitney U-test is: {p_value}\")\n"
   ]
  },
  {
   "cell_type": "code",
   "execution_count": null,
   "metadata": {},
   "outputs": [],
   "source": []
  }
 ],
 "metadata": {
  "colab": {
   "provenance": []
  },
  "kernelspec": {
   "display_name": "Python 3 (ipykernel)",
   "language": "python",
   "name": "python3"
  },
  "language_info": {
   "codemirror_mode": {
    "name": "ipython",
    "version": 3
   },
   "file_extension": ".py",
   "mimetype": "text/x-python",
   "name": "python",
   "nbconvert_exporter": "python",
   "pygments_lexer": "ipython3",
   "version": "3.12.2"
  }
 },
 "nbformat": 4,
 "nbformat_minor": 1
}
