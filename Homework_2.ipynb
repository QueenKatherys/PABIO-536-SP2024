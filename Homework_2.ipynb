{
 "cells": [
  {
   "cell_type": "markdown",
   "metadata": {
    "id": "yHNmCrisXP8E"
   },
   "source": [
    "# Homework 2\n",
    "\n",
    "For this homework, you will need to import the file: `covid_worldwide.csv`. "
   ]
  },
  {
   "cell_type": "code",
   "execution_count": null,
   "metadata": {
    "id": "I8kxEF_7PvDj"
   },
   "outputs": [],
   "source": [
    "import math\n",
    "import numpy as np\n",
    "import pandas as pd\n",
    "import scipy \n",
    "from scipy import stats\n",
    "import statsmodels.stats.multitest as smm\n",
    "import statsmodels.stats.nonparametric as nonparam \n",
    "from statsmodels.formula.api import ols\n"
   ]
  },
  {
   "cell_type": "code",
   "execution_count": null,
   "metadata": {
    "colab": {
     "base_uri": "https://localhost:8080/",
     "height": 74
    },
    "id": "tliKhA-dPx-N",
    "outputId": "c66951fd-6090-46b1-f40c-20e14791634f"
   },
   "outputs": [],
   "source": [
    "# A way to bring in Data\n",
    "from google.colab import files\n",
    "uploaded = files.upload()"
   ]
  },
  {
   "cell_type": "code",
   "execution_count": null,
   "metadata": {
    "colab": {
     "base_uri": "https://localhost:8080/",
     "height": 238
    },
    "id": "BvbjsqIUP1b7",
    "outputId": "cc4c137e-8497-452c-e01f-f37f309a898d"
   },
   "outputs": [],
   "source": [
    "# import covid data to the variable \"data\"\n",
    "data = pd.read_csv(\"covid_worldwide.csv\", index_col=0)\n",
    "data.head()"
   ]
  },
  {
   "cell_type": "markdown",
   "metadata": {
    "id": "QshOnvjkXUWY"
   },
   "source": [
    "1. Add a new column to the data frame called \"Proportion_Fatality,\" the contents of which you will calculate as the ratio of the total deaths for each country relative to the population of that country. Then use `.head()` to show the new version of the data frame that you have created."
   ]
  },
  {
   "cell_type": "code",
   "execution_count": null,
   "metadata": {
    "id": "rfIZkIr68KRD"
   },
   "outputs": [],
   "source": []
  },
  {
   "cell_type": "code",
   "execution_count": null,
   "metadata": {
    "id": "n1gkCd7O8Mje"
   },
   "outputs": [],
   "source": []
  },
  {
   "cell_type": "markdown",
   "metadata": {
    "id": "0dLxYfSWXYIB"
   },
   "source": [
    "2. Use `.describe()` to calculate the mean and the quartiles for \"Total Cases,\" \"Total Deaths,\" \"Total Recovered,\" \"Active Cases,\" and \"Proportion_Fatality\""
   ]
  },
  {
   "cell_type": "code",
   "execution_count": null,
   "metadata": {
    "id": "IGhy3jAn8K5H"
   },
   "outputs": [],
   "source": []
  },
  {
   "cell_type": "markdown",
   "metadata": {
    "id": "aeGBuZG4Xa5r"
   },
   "source": [
    "3. Use `groupby` to calculate the mean values of \"Total Cases,\" \"Total Deaths,\" \"Total Recovered,\" \"Active Cases,\" and \"Proportion_Fatality\" for each continent. Which continent had the highest proportion fatality?"
   ]
  },
  {
   "cell_type": "code",
   "execution_count": null,
   "metadata": {},
   "outputs": [],
   "source": []
  },
  {
   "cell_type": "markdown",
   "metadata": {
    "id": "DNFyCB5U8LrJ"
   },
   "source": []
  },
  {
   "cell_type": "markdown",
   "metadata": {
    "id": "iIS1zI2tXeDp"
   },
   "source": [
    "4. Calculate the standard deviation for the \"Total Deaths\" for North America and South America, and test whether the distributions for the total deaths in North America and South America resemble a normal distribution. Based on these outcomes, would a Student's t-test be the best statistical test for assessing whether the number of Total Deaths is significantly different between North vs. South America? If not, what test should be used to assess whether or not the number of Total Deaths is significantly different between North vs. South America?\n",
    "\n",
    "(**Hint:** for the purposes of this homework, let's say that standard devations within 2-fold are considered pretty similar)."
   ]
  },
  {
   "cell_type": "code",
   "execution_count": null,
   "metadata": {
    "id": "YkrG4E-s8VvX"
   },
   "outputs": [],
   "source": []
  },
  {
   "cell_type": "markdown",
   "metadata": {
    "id": "bEXCDQ2f8b-f"
   },
   "source": []
  },
  {
   "cell_type": "markdown",
   "metadata": {
    "id": "57P8XCTLXgVh"
   },
   "source": [
    "5. Perform the statistical test of choice to compare the number of Total Deaths between North America and South America (**Hint:** you'll want to select either t-test or Mann-Whitney U-test, depending on your answer from number 4). What is the resulting p-value? Are the number of Total Deaths statistically significantly different between North vs. South America?"
   ]
  },
  {
   "cell_type": "code",
   "execution_count": null,
   "metadata": {
    "id": "V1vCLPlW8ZY_"
   },
   "outputs": [],
   "source": []
  },
  {
   "cell_type": "markdown",
   "metadata": {},
   "source": []
  }
 ],
 "metadata": {
  "colab": {
   "provenance": []
  },
  "kernelspec": {
   "display_name": "Python 3 (ipykernel)",
   "language": "python",
   "name": "python3"
  },
  "language_info": {
   "codemirror_mode": {
    "name": "ipython",
    "version": 3
   },
   "file_extension": ".py",
   "mimetype": "text/x-python",
   "name": "python",
   "nbconvert_exporter": "python",
   "pygments_lexer": "ipython3",
   "version": "3.10.9"
  }
 },
 "nbformat": 4,
 "nbformat_minor": 1
}
