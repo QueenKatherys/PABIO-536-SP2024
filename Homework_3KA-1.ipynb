{
  "cells": [
    {
      "cell_type": "code",
      "execution_count": 2,
      "metadata": {
        "id": "i0DoU2UP9fA2"
      },
      "outputs": [],
      "source": [
        "# Import required libraries\n",
        "import numpy as np\n",
        "import pandas as pd\n",
        "import scipy\n",
        "from scipy import stats\n",
        "import statsmodels.stats.multitest as smm\n",
        "import matplotlib.pyplot as plt\n",
        "from statsmodels.formula.api import ols\n",
        "import seaborn as sns\n",
        "\n",
        "pd.set_option('display.precision', 2)\n",
        "pd.set_option('display.max_columns',10)\n"
      ]
    },
    {
      "cell_type": "markdown",
      "metadata": {
        "id": "sMMT_fLMbfuN"
      },
      "source": [
        "### Start by importing our expression dataset\n",
        "\n",
        "We're going to start by importing data the expression-metadata merged spreadsheet, so that we've got something to work with."
      ]
    },
    {
      "cell_type": "code",
      "execution_count": 3,
      "metadata": {},
      "outputs": [],
      "source": [
        "import pandas as pd\n",
        "\n",
        "# Upload the file containing melanoma dataset \n",
        "df = pd.read_excel(r\"C:\\Users\\Kathleen\\OneDrive\\Documents\\Bioinformatics Spring 2024\\Code\\Class 5\\melanoma_zerosRemoved_log2transformed_2024.xlsx\")\n",
        "\n",
        "\n"
      ]
    },
    {
      "cell_type": "code",
      "execution_count": 4,
      "metadata": {
        "id": "V6V2duv5g2JG"
      },
      "outputs": [
        {
          "data": {
            "text/html": [
              "<div>\n",
              "<style scoped>\n",
              "    .dataframe tbody tr th:only-of-type {\n",
              "        vertical-align: middle;\n",
              "    }\n",
              "\n",
              "    .dataframe tbody tr th {\n",
              "        vertical-align: top;\n",
              "    }\n",
              "\n",
              "    .dataframe thead th {\n",
              "        text-align: right;\n",
              "    }\n",
              "</style>\n",
              "<table border=\"1\" class=\"dataframe\">\n",
              "  <thead>\n",
              "    <tr style=\"text-align: right;\">\n",
              "      <th></th>\n",
              "      <th>Sample_geo_accession</th>\n",
              "      <th>Stage</th>\n",
              "      <th>cell type</th>\n",
              "      <th>sample_number</th>\n",
              "      <th>cell_line</th>\n",
              "      <th>...</th>\n",
              "      <th>ZYX</th>\n",
              "      <th>ZZEF1</th>\n",
              "      <th>ZZZ3</th>\n",
              "      <th>BP-21201H5.1</th>\n",
              "      <th>BP-2189O9.2</th>\n",
              "    </tr>\n",
              "    <tr>\n",
              "      <th>Sample Title</th>\n",
              "      <th></th>\n",
              "      <th></th>\n",
              "      <th></th>\n",
              "      <th></th>\n",
              "      <th></th>\n",
              "      <th></th>\n",
              "      <th></th>\n",
              "      <th></th>\n",
              "      <th></th>\n",
              "      <th></th>\n",
              "      <th></th>\n",
              "    </tr>\n",
              "  </thead>\n",
              "  <tbody>\n",
              "    <tr>\n",
              "      <th>FM_1</th>\n",
              "      <td>GSM2344965</td>\n",
              "      <td>primary melanocytes</td>\n",
              "      <td>normal melanocytes</td>\n",
              "      <td>1</td>\n",
              "      <td>FM</td>\n",
              "      <td>...</td>\n",
              "      <td>11.66</td>\n",
              "      <td>11.83</td>\n",
              "      <td>10.55</td>\n",
              "      <td>3.17</td>\n",
              "      <td>1.00</td>\n",
              "    </tr>\n",
              "    <tr>\n",
              "      <th>FM_2</th>\n",
              "      <td>GSM2344966</td>\n",
              "      <td>primary melanocytes</td>\n",
              "      <td>normal melanocytes</td>\n",
              "      <td>2</td>\n",
              "      <td>FM</td>\n",
              "      <td>...</td>\n",
              "      <td>11.63</td>\n",
              "      <td>11.54</td>\n",
              "      <td>11.06</td>\n",
              "      <td>2.81</td>\n",
              "      <td>2.00</td>\n",
              "    </tr>\n",
              "    <tr>\n",
              "      <th>FM_3</th>\n",
              "      <td>GSM2344967</td>\n",
              "      <td>primary melanocytes</td>\n",
              "      <td>normal melanocytes</td>\n",
              "      <td>3</td>\n",
              "      <td>FM</td>\n",
              "      <td>...</td>\n",
              "      <td>12.31</td>\n",
              "      <td>11.44</td>\n",
              "      <td>10.81</td>\n",
              "      <td>2.32</td>\n",
              "      <td>1.58</td>\n",
              "    </tr>\n",
              "    <tr>\n",
              "      <th>SK_MEL_28_1</th>\n",
              "      <td>GSM2344968</td>\n",
              "      <td>metastatic</td>\n",
              "      <td>melanoma cell line</td>\n",
              "      <td>4</td>\n",
              "      <td>SK_MEL_28</td>\n",
              "      <td>...</td>\n",
              "      <td>11.86</td>\n",
              "      <td>10.94</td>\n",
              "      <td>11.64</td>\n",
              "      <td>0.00</td>\n",
              "      <td>6.04</td>\n",
              "    </tr>\n",
              "    <tr>\n",
              "      <th>SK_MEL_28_2</th>\n",
              "      <td>GSM2344969</td>\n",
              "      <td>metastatic</td>\n",
              "      <td>melanoma cell line</td>\n",
              "      <td>5</td>\n",
              "      <td>SK_MEL_28</td>\n",
              "      <td>...</td>\n",
              "      <td>11.97</td>\n",
              "      <td>11.03</td>\n",
              "      <td>11.74</td>\n",
              "      <td>1.00</td>\n",
              "      <td>6.41</td>\n",
              "    </tr>\n",
              "  </tbody>\n",
              "</table>\n",
              "<p>5 rows × 15363 columns</p>\n",
              "</div>"
            ],
            "text/plain": [
              "             Sample_geo_accession                Stage           cell type  \\\n",
              "Sample Title                                                                 \n",
              "FM_1                   GSM2344965  primary melanocytes  normal melanocytes   \n",
              "FM_2                   GSM2344966  primary melanocytes  normal melanocytes   \n",
              "FM_3                   GSM2344967  primary melanocytes  normal melanocytes   \n",
              "SK_MEL_28_1            GSM2344968           metastatic  melanoma cell line   \n",
              "SK_MEL_28_2            GSM2344969           metastatic  melanoma cell line   \n",
              "\n",
              "              sample_number  cell_line  ...    ZYX  ZZEF1   ZZZ3  \\\n",
              "Sample Title                            ...                        \n",
              "FM_1                      1         FM  ...  11.66  11.83  10.55   \n",
              "FM_2                      2         FM  ...  11.63  11.54  11.06   \n",
              "FM_3                      3         FM  ...  12.31  11.44  10.81   \n",
              "SK_MEL_28_1               4  SK_MEL_28  ...  11.86  10.94  11.64   \n",
              "SK_MEL_28_2               5  SK_MEL_28  ...  11.97  11.03  11.74   \n",
              "\n",
              "              BP-21201H5.1  BP-2189O9.2  \n",
              "Sample Title                             \n",
              "FM_1                  3.17         1.00  \n",
              "FM_2                  2.81         2.00  \n",
              "FM_3                  2.32         1.58  \n",
              "SK_MEL_28_1           0.00         6.04  \n",
              "SK_MEL_28_2           1.00         6.41  \n",
              "\n",
              "[5 rows x 15363 columns]"
            ]
          },
          "execution_count": 4,
          "metadata": {},
          "output_type": "execute_result"
        }
      ],
      "source": [
        "# importing the melanoma dataset\n",
        "melanoma_log2 = pd.read_excel('melanoma_zerosRemoved_log2transformed_2024.xlsx',index_col = 0)\n",
        "melanoma_log2.head()"
      ]
    },
    {
      "cell_type": "code",
      "execution_count": 6,
      "metadata": {
        "id": "XEh6FoWD9fBA"
      },
      "outputs": [
        {
          "data": {
            "text/html": [
              "<div>\n",
              "<style scoped>\n",
              "    .dataframe tbody tr th:only-of-type {\n",
              "        vertical-align: middle;\n",
              "    }\n",
              "\n",
              "    .dataframe tbody tr th {\n",
              "        vertical-align: top;\n",
              "    }\n",
              "\n",
              "    .dataframe thead th {\n",
              "        text-align: right;\n",
              "    }\n",
              "</style>\n",
              "<table border=\"1\" class=\"dataframe\">\n",
              "  <thead>\n",
              "    <tr style=\"text-align: right;\">\n",
              "      <th></th>\n",
              "      <th>HALLMARK_ADIPOGENESIS</th>\n",
              "    </tr>\n",
              "  </thead>\n",
              "  <tbody>\n",
              "    <tr>\n",
              "      <th>0</th>\n",
              "      <td>ABCA1</td>\n",
              "    </tr>\n",
              "    <tr>\n",
              "      <th>1</th>\n",
              "      <td>ABCB8</td>\n",
              "    </tr>\n",
              "    <tr>\n",
              "      <th>2</th>\n",
              "      <td>ACAA2</td>\n",
              "    </tr>\n",
              "    <tr>\n",
              "      <th>3</th>\n",
              "      <td>ACADL</td>\n",
              "    </tr>\n",
              "    <tr>\n",
              "      <th>4</th>\n",
              "      <td>ACADM</td>\n",
              "    </tr>\n",
              "  </tbody>\n",
              "</table>\n",
              "</div>"
            ],
            "text/plain": [
              "  HALLMARK_ADIPOGENESIS\n",
              "0                 ABCA1\n",
              "1                 ABCB8\n",
              "2                 ACAA2\n",
              "3                 ACADL\n",
              "4                 ACADM"
            ]
          },
          "execution_count": 6,
          "metadata": {},
          "output_type": "execute_result"
        }
      ],
      "source": [
        "# Importing two gene lists\n",
        "AdipogenesisGenes = pd.read_csv('Hallmark_Adipogenesis_geneset.txt', sep=\"/t\",engine='python')\n",
        "AdipogenesisGenes.head()"
      ]
    },
    {
      "cell_type": "markdown",
      "metadata": {
        "id": "EWFRxvA4JOBx"
      },
      "source": [
        "1. Calculate the top 1000 genes with the highest (absolute value) difference in mean log2 expression between metastatic vs. normal, and output to an excel spreadsheet. **Hint**: it might be helpful to prepare a data frame that only contains the expression values and the Stage label information. There are several ways to do this."
      ]
    },
    {
      "cell_type": "code",
      "execution_count": 7,
      "metadata": {
        "id": "2fneE4lMLm4e"
      },
      "outputs": [],
      "source": [
        "# Step 1: Create a new DataFrame with expression values and Stage label\n",
        "expression_df = df.drop(columns=['Sample Title', 'Sample_geo_accession', 'cell type', 'sample_number', 'cell_line'])\n",
        "expression_df.head()\n",
        "\n",
        "# Step 2: Calculate the mean log2 expression for metastatic and normal samples\n",
        "metastatic_mean = expression_df.loc[df['Stage'] == 'metastatic'].drop(columns=['Stage']).mean()\n",
        "normal_mean = expression_df.loc[df['Stage'] == 'primary melanocytes'].drop(columns=['Stage']).mean()\n",
        "\n",
        "# Step 3: Calculate the absolute difference in mean log2 expression\n",
        "diff_mean = abs(metastatic_mean - normal_mean)\n",
        "\n",
        "# Step 4: Sort the genes based on the absolute difference\n",
        "sorted_genes = diff_mean.sort_values(ascending=False)\n",
        "\n",
        "# Step 5: Select the top 1000 genes with the highest absolute difference\n",
        "top_1000_genesHW3 = sorted_genes.head(1000)\n",
        "top_1000_genesHW3.head()\n",
        "\n",
        "# Step 6: Output the selected genes to an Excel spreadsheet\n",
        "top_1000_genesHW3.to_excel('top_1000_genesHW3KAPABIO536.xlsx')\n"
      ]
    },
    {
      "cell_type": "markdown",
      "metadata": {
        "id": "cpw2qZdmPS_j"
      },
      "source": [
        "2. Use http://bioinformatics.sdstate.edu/go/ to perform enrichment analysis on these top 1000 genes and report back what the top enriched KEGG pathway is. Please be sure to take a look at the outputs of the other tabs from ShinyGO, but no need to report back anything other than the name of the top enriched KEGG pathway."
      ]
    },
    {
      "cell_type": "code",
      "execution_count": 9,
      "metadata": {
        "id": "aKpwmJXsPokI"
      },
      "outputs": [
        {
          "data": {
            "text/html": [
              "<div>\n",
              "<style scoped>\n",
              "    .dataframe tbody tr th:only-of-type {\n",
              "        vertical-align: middle;\n",
              "    }\n",
              "\n",
              "    .dataframe tbody tr th {\n",
              "        vertical-align: top;\n",
              "    }\n",
              "\n",
              "    .dataframe thead th {\n",
              "        text-align: right;\n",
              "    }\n",
              "</style>\n",
              "<table border=\"1\" class=\"dataframe\">\n",
              "  <thead>\n",
              "    <tr style=\"text-align: right;\">\n",
              "      <th></th>\n",
              "      <th>Enrichment FDR</th>\n",
              "      <th>nGenes</th>\n",
              "      <th>Pathway Genes</th>\n",
              "      <th>Fold Enrichment</th>\n",
              "      <th>Pathway</th>\n",
              "      <th>URL</th>\n",
              "      <th>Genes</th>\n",
              "    </tr>\n",
              "  </thead>\n",
              "  <tbody>\n",
              "    <tr>\n",
              "      <th>0</th>\n",
              "      <td>1.48e-04</td>\n",
              "      <td>15</td>\n",
              "      <td>88</td>\n",
              "      <td>4.49</td>\n",
              "      <td>Path:hsa04512 ECM-receptor interaction</td>\n",
              "      <td>http://www.genome.jp/kegg-bin/show_pathway?hsa...</td>\n",
              "      <td>CHAD  COL1A2  COL6A1  COL9A1  TNC  FREM2  ITG...</td>\n",
              "    </tr>\n",
              "    <tr>\n",
              "      <th>1</th>\n",
              "      <td>3.88e-02</td>\n",
              "      <td>6</td>\n",
              "      <td>36</td>\n",
              "      <td>4.39</td>\n",
              "      <td>Path:hsa00512 Mucin type O-glycan biosynthesis</td>\n",
              "      <td>http://www.genome.jp/kegg-bin/show_pathway?hsa...</td>\n",
              "      <td>ST6GALNAC2  GALNT15  GALNT3  GCNT1  GALNTL6  ...</td>\n",
              "    </tr>\n",
              "    <tr>\n",
              "      <th>2</th>\n",
              "      <td>3.00e-02</td>\n",
              "      <td>7</td>\n",
              "      <td>45</td>\n",
              "      <td>4.10</td>\n",
              "      <td>Path:hsa02010 ABC transporters</td>\n",
              "      <td>http://www.genome.jp/kegg-bin/show_pathway?hsa...</td>\n",
              "      <td>ABCC9  ABCA8  ABCA13  ABCA1  ABCB5  ABCB4  ABCG4</td>\n",
              "    </tr>\n",
              "    <tr>\n",
              "      <th>3</th>\n",
              "      <td>6.41e-03</td>\n",
              "      <td>12</td>\n",
              "      <td>89</td>\n",
              "      <td>3.55</td>\n",
              "      <td>Path:hsa04727 GABAergic synapse</td>\n",
              "      <td>http://www.genome.jp/kegg-bin/show_pathway?hsa...</td>\n",
              "      <td>ADCY2  ADCY5  ABAT  GABRP  GAD1  GLUL  GNAO1 ...</td>\n",
              "    </tr>\n",
              "    <tr>\n",
              "      <th>4</th>\n",
              "      <td>1.86e-02</td>\n",
              "      <td>10</td>\n",
              "      <td>77</td>\n",
              "      <td>3.42</td>\n",
              "      <td>Path:hsa05412 Arrhythmogenic right ventricular...</td>\n",
              "      <td>http://www.genome.jp/kegg-bin/show_pathway?hsa...</td>\n",
              "      <td>DSC2  DSG2  ITGA6  ITGA4  LAMA2  PKP2  RYR2  ...</td>\n",
              "    </tr>\n",
              "  </tbody>\n",
              "</table>\n",
              "</div>"
            ],
            "text/plain": [
              "   Enrichment FDR  nGenes  Pathway Genes  Fold Enrichment  \\\n",
              "0        1.48e-04      15             88             4.49   \n",
              "1        3.88e-02       6             36             4.39   \n",
              "2        3.00e-02       7             45             4.10   \n",
              "3        6.41e-03      12             89             3.55   \n",
              "4        1.86e-02      10             77             3.42   \n",
              "\n",
              "                                             Pathway  \\\n",
              "0             Path:hsa04512 ECM-receptor interaction   \n",
              "1     Path:hsa00512 Mucin type O-glycan biosynthesis   \n",
              "2                     Path:hsa02010 ABC transporters   \n",
              "3                    Path:hsa04727 GABAergic synapse   \n",
              "4  Path:hsa05412 Arrhythmogenic right ventricular...   \n",
              "\n",
              "                                                 URL  \\\n",
              "0  http://www.genome.jp/kegg-bin/show_pathway?hsa...   \n",
              "1  http://www.genome.jp/kegg-bin/show_pathway?hsa...   \n",
              "2  http://www.genome.jp/kegg-bin/show_pathway?hsa...   \n",
              "3  http://www.genome.jp/kegg-bin/show_pathway?hsa...   \n",
              "4  http://www.genome.jp/kegg-bin/show_pathway?hsa...   \n",
              "\n",
              "                                               Genes  \n",
              "0   CHAD  COL1A2  COL6A1  COL9A1  TNC  FREM2  ITG...  \n",
              "1   ST6GALNAC2  GALNT15  GALNT3  GCNT1  GALNTL6  ...  \n",
              "2   ABCC9  ABCA8  ABCA13  ABCA1  ABCB5  ABCB4  ABCG4  \n",
              "3   ADCY2  ADCY5  ABAT  GABRP  GAD1  GLUL  GNAO1 ...  \n",
              "4   DSC2  DSG2  ITGA6  ITGA4  LAMA2  PKP2  RYR2  ...  "
            ]
          },
          "execution_count": 9,
          "metadata": {},
          "output_type": "execute_result"
        }
      ],
      "source": [
        "import pandas as pd\n",
        "\n",
        "# Upload the enrichment.csv file\n",
        "enrichment_df = pd.read_csv(r\"C:\\Users\\Kathleen\\OneDrive\\Documents\\Bioinformatics Spring 2024\\Homework\\Homework 3\\enrichment.csv\")\n",
        "enrichment_df.head()\n",
        "\n"
      ]
    },
    {
      "cell_type": "markdown",
      "metadata": {},
      "source": [
        "The top enriched KECG Pathway is the hsa04512 ECM-receptor interaction. "
      ]
    },
    {
      "cell_type": "markdown",
      "metadata": {
        "id": "VlTyUnnp9fBB"
      },
      "source": [
        "3. Extract the genes that overlap between the `AdipogenesisGenes` and the top 1000 genes with the greatest difference in mean log2 expression change in `melanoma_log2` that you found in question 1. **Hint**: [This link](https://www.geeksforgeeks.org/python-intersection-two-lists/) should be helpful."
      ]
    },
    {
      "cell_type": "code",
      "execution_count": 12,
      "metadata": {},
      "outputs": [
        {
          "name": "stdout",
          "output_type": "stream",
          "text": [
            "The genes which overlap between 'AdipogenesisGenes' and 'melanoma_log2' are: ['ABCA1' 'ALDH2' 'APOE' 'ENPP2' 'GPX3' 'ITIH5' 'LIFR' 'LIPE' 'MGLL'\n",
            " 'SORBS1' 'SSPN' 'STAT5A']\n"
          ]
        }
      ],
      "source": [
        "import numpy as np\n",
        "\n",
        "# Extract the gene names from AdipogenesisGenes and top_1000_genesHW3\n",
        "adipogenesis_genes = AdipogenesisGenes['HALLMARK_ADIPOGENESIS'].tolist()\n",
        "top_1000_genes = top_1000_genesHW3.index.tolist()\n",
        "\n",
        "# Find the overlapping genes\n",
        "overlapping_genes = np.intersect1d(adipogenesis_genes, top_1000_genes)\n",
        "\n",
        "# Print the overlapping genes\n",
        "print(\"The genes which overlap between 'AdipogenesisGenes' and 'melanoma_log2' are:\",overlapping_genes)\n"
      ]
    },
    {
      "cell_type": "markdown",
      "metadata": {
        "id": "8s2w78fUP_iX"
      },
      "source": [
        "4. Compare Pearson correlation coefficients between each pair of genes that you found in question 3 for metastatic vs. normal samples. Which gene pair has the most negative difference in Pearson coefficient when you subtract the coefficients calculated from the normal values from the coefficients calculated from the metastatic values? **Hint** use the `.unstack()` and `.sort_values()` methods to help you sort the data frame matrix."
      ]
    },
    {
      "cell_type": "code",
      "execution_count": 13,
      "metadata": {},
      "outputs": [
        {
          "data": {
            "text/html": [
              "<div>\n",
              "<style scoped>\n",
              "    .dataframe tbody tr th:only-of-type {\n",
              "        vertical-align: middle;\n",
              "    }\n",
              "\n",
              "    .dataframe tbody tr th {\n",
              "        vertical-align: top;\n",
              "    }\n",
              "\n",
              "    .dataframe thead th {\n",
              "        text-align: right;\n",
              "    }\n",
              "</style>\n",
              "<table border=\"1\" class=\"dataframe\">\n",
              "  <thead>\n",
              "    <tr style=\"text-align: right;\">\n",
              "      <th></th>\n",
              "      <th>Stage</th>\n",
              "      <th>A1BG</th>\n",
              "      <th>A2M</th>\n",
              "      <th>AAAS</th>\n",
              "      <th>AACS</th>\n",
              "      <th>...</th>\n",
              "      <th>ZYX</th>\n",
              "      <th>ZZEF1</th>\n",
              "      <th>ZZZ3</th>\n",
              "      <th>BP-21201H5.1</th>\n",
              "      <th>BP-2189O9.2</th>\n",
              "    </tr>\n",
              "  </thead>\n",
              "  <tbody>\n",
              "    <tr>\n",
              "      <th>0</th>\n",
              "      <td>primary melanocytes</td>\n",
              "      <td>8.64</td>\n",
              "      <td>14.51</td>\n",
              "      <td>10.54</td>\n",
              "      <td>10.79</td>\n",
              "      <td>...</td>\n",
              "      <td>11.66</td>\n",
              "      <td>11.83</td>\n",
              "      <td>10.55</td>\n",
              "      <td>3.17</td>\n",
              "      <td>1.00</td>\n",
              "    </tr>\n",
              "    <tr>\n",
              "      <th>1</th>\n",
              "      <td>primary melanocytes</td>\n",
              "      <td>8.32</td>\n",
              "      <td>15.54</td>\n",
              "      <td>10.42</td>\n",
              "      <td>11.01</td>\n",
              "      <td>...</td>\n",
              "      <td>11.63</td>\n",
              "      <td>11.54</td>\n",
              "      <td>11.06</td>\n",
              "      <td>2.81</td>\n",
              "      <td>2.00</td>\n",
              "    </tr>\n",
              "    <tr>\n",
              "      <th>2</th>\n",
              "      <td>primary melanocytes</td>\n",
              "      <td>8.94</td>\n",
              "      <td>14.32</td>\n",
              "      <td>10.63</td>\n",
              "      <td>11.42</td>\n",
              "      <td>...</td>\n",
              "      <td>12.31</td>\n",
              "      <td>11.44</td>\n",
              "      <td>10.81</td>\n",
              "      <td>2.32</td>\n",
              "      <td>1.58</td>\n",
              "    </tr>\n",
              "    <tr>\n",
              "      <th>3</th>\n",
              "      <td>metastatic</td>\n",
              "      <td>8.37</td>\n",
              "      <td>11.37</td>\n",
              "      <td>10.76</td>\n",
              "      <td>10.70</td>\n",
              "      <td>...</td>\n",
              "      <td>11.86</td>\n",
              "      <td>10.94</td>\n",
              "      <td>11.64</td>\n",
              "      <td>0.00</td>\n",
              "      <td>6.04</td>\n",
              "    </tr>\n",
              "    <tr>\n",
              "      <th>4</th>\n",
              "      <td>metastatic</td>\n",
              "      <td>8.50</td>\n",
              "      <td>11.40</td>\n",
              "      <td>10.91</td>\n",
              "      <td>10.74</td>\n",
              "      <td>...</td>\n",
              "      <td>11.97</td>\n",
              "      <td>11.03</td>\n",
              "      <td>11.74</td>\n",
              "      <td>1.00</td>\n",
              "      <td>6.41</td>\n",
              "    </tr>\n",
              "  </tbody>\n",
              "</table>\n",
              "<p>5 rows × 15359 columns</p>\n",
              "</div>"
            ],
            "text/plain": [
              "                 Stage  A1BG    A2M   AAAS   AACS  ...    ZYX  ZZEF1   ZZZ3  \\\n",
              "0  primary melanocytes  8.64  14.51  10.54  10.79  ...  11.66  11.83  10.55   \n",
              "1  primary melanocytes  8.32  15.54  10.42  11.01  ...  11.63  11.54  11.06   \n",
              "2  primary melanocytes  8.94  14.32  10.63  11.42  ...  12.31  11.44  10.81   \n",
              "3           metastatic  8.37  11.37  10.76  10.70  ...  11.86  10.94  11.64   \n",
              "4           metastatic  8.50  11.40  10.91  10.74  ...  11.97  11.03  11.74   \n",
              "\n",
              "   BP-21201H5.1  BP-2189O9.2  \n",
              "0          3.17         1.00  \n",
              "1          2.81         2.00  \n",
              "2          2.32         1.58  \n",
              "3          0.00         6.04  \n",
              "4          1.00         6.41  \n",
              "\n",
              "[5 rows x 15359 columns]"
            ]
          },
          "execution_count": 13,
          "metadata": {},
          "output_type": "execute_result"
        }
      ],
      "source": [
        "# Reiteration of expression_df from Question 1\n",
        "\n",
        "expression_df = df.drop(columns=['Sample Title', 'Sample_geo_accession', 'cell type', 'sample_number', 'cell_line'])\n",
        "expression_df.head()\n",
        "\n",
        "# The Overlapping genes are: ['ABCA1' 'ALDH2' 'APOE' 'ENPP2' 'GPX3' 'ITIH5' 'LIFR' 'LIPE' 'MGLL'\n",
        " #'SORBS1' 'SSPN' 'STAT5A']\n",
        "\n",
        " # Metastatic samples are rows for which the 'Stage' column value is 'metastatic'; normal samples are rows for which the 'Stage' column value is 'primary melanocytes'"
      ]
    },
    {
      "cell_type": "code",
      "execution_count": 14,
      "metadata": {},
      "outputs": [
        {
          "name": "stdout",
          "output_type": "stream",
          "text": [
            "Gene pair with the most negative difference in Pearson coefficient: ('ABCA1', 'APOE')\n",
            "Difference value: -1.9104565893356764\n"
          ]
        }
      ],
      "source": [
        "import numpy as np\n",
        "import pandas as pd\n",
        "\n",
        "# Select the overlapping genes\n",
        "overlapping_genes = ['ABCA1', 'ALDH2', 'APOE', 'ENPP2', 'GPX3', 'ITIH5', 'LIFR', 'LIPE', 'MGLL', 'SORBS1', 'SSPN', 'STAT5A']\n",
        "\n",
        "# Filter the expression dataframe for the overlapping genes and metastatic/normal samples\n",
        "metastatic_samples = expression_df[expression_df['Stage'] == 'metastatic'][overlapping_genes]\n",
        "normal_samples = expression_df[expression_df['Stage'] == 'primary melanocytes'][overlapping_genes]\n",
        "\n",
        "# Calculate the correlation coefficients for each pair of genes separately for metastatic and normal samples\n",
        "metastatic_corr = metastatic_samples.corr()\n",
        "normal_corr = normal_samples.corr()\n",
        "\n",
        "# Subtract the coefficients calculated from the normal values from the coefficients calculated from the metastatic values\n",
        "corr_diff = metastatic_corr - normal_corr\n",
        "\n",
        "# Find the gene pair with the most negative difference in Pearson coefficient\n",
        "max_diff_gene_pair = corr_diff.unstack().sort_values().index[0]\n",
        "\n",
        "# Get the difference value for the gene pair\n",
        "diff_value = corr_diff.loc[max_diff_gene_pair]\n",
        "\n",
        "# Print the gene pair with the most negative difference in Pearson coefficient\n",
        "print(\"Gene pair with the most negative difference in Pearson coefficient:\", max_diff_gene_pair)\n",
        "print(\"Difference value:\", diff_value)\n"
      ]
    },
    {
      "cell_type": "markdown",
      "metadata": {},
      "source": [
        "5. Please write a few sentences about the dataset that you currently plan to use for your final project. If it's a dataset from your labwork, then please describe what the samples and the measurements are, as well as what metadata are available. If it's a paper, please provide the citation, and describe what the samples and the measurements are. Note: what you write here is not binding (you can definitely change to a different dataset later if you wish), but we want to get a sense for your current thoughts on the project."
      ]
    },
    {
      "cell_type": "markdown",
      "metadata": {},
      "source": [
        "I've devoted time to choosing the dataset for my Final Project. Following thorough evaluation, I've decided on the dataset featured in the publication \"Transcriptomic profile of circulating memory CD4 T cells can differentiate between latent tuberculosis individuals and healthy controls\" by Burel, et al. Given my background as a microbiologist with experience in tuberculosis diagnostics in both outpatient and inpatient settings, and my emerging skills in bioinformatics, I believe this project will be an exciting way to apply everything I've learned in this class! Citation: \t\n",
        "Burel JG, Lindestam Arlehamn CS, Khan N, Seumois G et al. Transcriptomic Analysis of CD4(+) T Cells Reveals Novel Immune Signatures of Latent Tuberculosis. J Immunol 2018 May 1;200(9):3283-3290. PMID: 29602771Link: https://www.ncbi.nlm.nih.gov/geo/query/acc.cgi?acc=GSE99373"
      ]
    },
    {
      "cell_type": "markdown",
      "metadata": {},
      "source": []
    }
  ],
  "metadata": {
    "colab": {
      "provenance": []
    },
    "kernelspec": {
      "display_name": "Python 3",
      "name": "python3"
    },
    "language_info": {
      "codemirror_mode": {
        "name": "ipython",
        "version": 3
      },
      "file_extension": ".py",
      "mimetype": "text/x-python",
      "name": "python",
      "nbconvert_exporter": "python",
      "pygments_lexer": "ipython3",
      "version": "3.12.2"
    }
  },
  "nbformat": 4,
  "nbformat_minor": 0
}
