{
  "cells": [
    {
      "cell_type": "markdown",
      "metadata": {
        "id": "0gsD-CsINmc0"
      },
      "source": [
        "#Homework 9"
      ]
    },
    {
      "cell_type": "markdown",
      "metadata": {
        "id": "4zHWpG0SNsnY"
      },
      "source": [
        "For this homework, we will be exploring a gene expression dataset profiling T cells derived from thymic and peripheral blood sources, as described in the study [GSE139242](https://www.ncbi.nlm.nih.gov/geo/query/acc.cgi?acc=GSE139242) and the accompanying paper [PMID: 32393182](https://bmcgenomics.biomedcentral.com/articles/10.1186/s12864-020-6755-1).\n"
      ]
    },
    {
      "cell_type": "markdown",
      "metadata": {
        "id": "5ljXC57DNvQL"
      },
      "source": [
        "###Initialize\n",
        "\n",
        "Start by Installing and Importing the necessary packages. Note that we will need to set some specific settings to get everything to run properly in Colaboratory."
      ]
    },
    {
      "cell_type": "code",
      "execution_count": 11,
      "metadata": {
        "id": "EAZK9gmmPkyN"
      },
      "outputs": [],
      "source": [
        "# Import required libraries, drives, etc.\n",
        "\n",
        "import numpy as np              # a Python library for numerical operations.\n",
        "import pandas as pd             # a library for data manipulation and analysis.\n",
        "\n",
        "#import matplotlib.animation as animation\n",
        "#from matplotlib.animation import FFMpegWriter\n",
        "from sklearn.decomposition import PCA\n",
        "from sklearn.preprocessing import StandardScaler\n",
        "\n",
        "import scipy\n",
        "from scipy import stats\n",
        "import csv\n",
        "import os\n",
        "import sys\n",
        "import argparse\n",
        "from time import time\n",
        "import random\n",
        "\n",
        "import seaborn as sns           # a Python data visualization library based on matplotlib, for better aesthetic and informative statistical graphics.\n",
        "import plotly as px             # a graphing library for making interactive, publication-quality graphs online.\n",
        "import altair as alt\n",
        "import matplotlib\n",
        "import matplotlib.pyplot as plt # a 2D plotting library to create static, animated, and interactive visualizations.\n",
        "import matplotlib.colors as mcolors\n",
        "\n",
        "import collections              # for high-performance container datatypes.\n",
        "\n",
        "# Setting Matplotlib to use inline plotting.\n",
        "# This means the output of plotting commands is displayed inline within frontends like the Jupyter notebook, directly below the code cell that produced it.\n",
        "%matplotlib inline\n",
        "\n",
        "# Allowing multiple outputs from the same cell, rather than just the last one run.\n",
        "from IPython.core.interactiveshell import InteractiveShell\n",
        "InteractiveShell.ast_node_interactivity = \"all\"\n",
        "\n",
        "from IPython.display import HTML\n",
        "from IPython.display import Image\n",
        "\n",
        "# Accessing the output module in Google Colab.\n",
        "#from google.colab import output\n",
        "#output.enable_custom_widget_manager() # Enabling custom widget manager for more advanced outputs.\n",
        "\n",
        "#import networkx as nx           # a Python package for the creation, manipulation, and study of the structure, dynamics, and functions of complex networks.\n",
        "\n",
        "#import scipy.spatial as sp, scipy.cluster.hierarchy as hc\n",
        "#import collections\n"
      ]
    },
    {
      "cell_type": "code",
      "execution_count": 12,
      "metadata": {
        "colab": {
          "base_uri": "https://localhost:8080/"
        },
        "id": "PITqe3dJQ1p6",
        "outputId": "6dfcf75a-f24b-49ae-c064-68142b5951c0"
      },
      "outputs": [
        {
          "data": {
            "text/plain": [
              "DataTransformerRegistry.enable('default')"
            ]
          },
          "execution_count": 12,
          "metadata": {},
          "output_type": "execute_result"
        }
      ],
      "source": [
        "random.seed(10)\n",
        "\n",
        "pd.set_option('display.precision', 2)\n",
        "pd.set_option('display.max_columns',10)\n",
        "\n",
        "alt.data_transformers.disable_max_rows()\n",
        "\n",
        "# We're also going to tell Jupyter to use inline plotting instead of notebook plotting\n",
        "# It basically means you don't have to use plt.show() in every cell\n",
        "%matplotlib inline\n",
        "\n",
        "# and this command will allow multiple outputs from the same cell, rather than just the last one run\n",
        "from IPython.core.interactiveshell import InteractiveShell\n",
        "InteractiveShell.ast_node_interactivity = \"all\""
      ]
    },
    {
      "cell_type": "markdown",
      "metadata": {
        "id": "MuTXrCn9Hcs_"
      },
      "source": [
        "#Prepping the data"
      ]
    },
    {
      "cell_type": "markdown",
      "metadata": {
        "id": "0kZTDK3heOxJ"
      },
      "source": [
        "Prepping the data: you will need to upload `GSE139242_gene_counts.csv` and each of the Thymus_CD4VsCD8 gene module files."
      ]
    },
    {
      "cell_type": "code",
      "execution_count": null,
      "metadata": {
        "colab": {
          "base_uri": "https://localhost:8080/",
          "height": 75
        },
        "id": "Prv0TMu_b6I-",
        "outputId": "418f7ef9-16cc-4be0-cb49-969737c5edf6"
      },
      "outputs": [
        {
          "data": {
            "text/html": [
              "\n",
              "     <input type=\"file\" id=\"files-44b0dfc8-acd1-44d7-abfa-f674e24be754\" name=\"files[]\" multiple disabled\n",
              "        style=\"border:none\" />\n",
              "     <output id=\"result-44b0dfc8-acd1-44d7-abfa-f674e24be754\">\n",
              "      Upload widget is only available when the cell has been executed in the\n",
              "      current browser session. Please rerun this cell to enable.\n",
              "      </output>\n",
              "      <script>// Copyright 2017 Google LLC\n",
              "//\n",
              "// Licensed under the Apache License, Version 2.0 (the \"License\");\n",
              "// you may not use this file except in compliance with the License.\n",
              "// You may obtain a copy of the License at\n",
              "//\n",
              "//      http://www.apache.org/licenses/LICENSE-2.0\n",
              "//\n",
              "// Unless required by applicable law or agreed to in writing, software\n",
              "// distributed under the License is distributed on an \"AS IS\" BASIS,\n",
              "// WITHOUT WARRANTIES OR CONDITIONS OF ANY KIND, either express or implied.\n",
              "// See the License for the specific language governing permissions and\n",
              "// limitations under the License.\n",
              "\n",
              "/**\n",
              " * @fileoverview Helpers for google.colab Python module.\n",
              " */\n",
              "(function(scope) {\n",
              "function span(text, styleAttributes = {}) {\n",
              "  const element = document.createElement('span');\n",
              "  element.textContent = text;\n",
              "  for (const key of Object.keys(styleAttributes)) {\n",
              "    element.style[key] = styleAttributes[key];\n",
              "  }\n",
              "  return element;\n",
              "}\n",
              "\n",
              "// Max number of bytes which will be uploaded at a time.\n",
              "const MAX_PAYLOAD_SIZE = 100 * 1024;\n",
              "\n",
              "function _uploadFiles(inputId, outputId) {\n",
              "  const steps = uploadFilesStep(inputId, outputId);\n",
              "  const outputElement = document.getElementById(outputId);\n",
              "  // Cache steps on the outputElement to make it available for the next call\n",
              "  // to uploadFilesContinue from Python.\n",
              "  outputElement.steps = steps;\n",
              "\n",
              "  return _uploadFilesContinue(outputId);\n",
              "}\n",
              "\n",
              "// This is roughly an async generator (not supported in the browser yet),\n",
              "// where there are multiple asynchronous steps and the Python side is going\n",
              "// to poll for completion of each step.\n",
              "// This uses a Promise to block the python side on completion of each step,\n",
              "// then passes the result of the previous step as the input to the next step.\n",
              "function _uploadFilesContinue(outputId) {\n",
              "  const outputElement = document.getElementById(outputId);\n",
              "  const steps = outputElement.steps;\n",
              "\n",
              "  const next = steps.next(outputElement.lastPromiseValue);\n",
              "  return Promise.resolve(next.value.promise).then((value) => {\n",
              "    // Cache the last promise value to make it available to the next\n",
              "    // step of the generator.\n",
              "    outputElement.lastPromiseValue = value;\n",
              "    return next.value.response;\n",
              "  });\n",
              "}\n",
              "\n",
              "/**\n",
              " * Generator function which is called between each async step of the upload\n",
              " * process.\n",
              " * @param {string} inputId Element ID of the input file picker element.\n",
              " * @param {string} outputId Element ID of the output display.\n",
              " * @return {!Iterable<!Object>} Iterable of next steps.\n",
              " */\n",
              "function* uploadFilesStep(inputId, outputId) {\n",
              "  const inputElement = document.getElementById(inputId);\n",
              "  inputElement.disabled = false;\n",
              "\n",
              "  const outputElement = document.getElementById(outputId);\n",
              "  outputElement.innerHTML = '';\n",
              "\n",
              "  const pickedPromise = new Promise((resolve) => {\n",
              "    inputElement.addEventListener('change', (e) => {\n",
              "      resolve(e.target.files);\n",
              "    });\n",
              "  });\n",
              "\n",
              "  const cancel = document.createElement('button');\n",
              "  inputElement.parentElement.appendChild(cancel);\n",
              "  cancel.textContent = 'Cancel upload';\n",
              "  const cancelPromise = new Promise((resolve) => {\n",
              "    cancel.onclick = () => {\n",
              "      resolve(null);\n",
              "    };\n",
              "  });\n",
              "\n",
              "  // Wait for the user to pick the files.\n",
              "  const files = yield {\n",
              "    promise: Promise.race([pickedPromise, cancelPromise]),\n",
              "    response: {\n",
              "      action: 'starting',\n",
              "    }\n",
              "  };\n",
              "\n",
              "  cancel.remove();\n",
              "\n",
              "  // Disable the input element since further picks are not allowed.\n",
              "  inputElement.disabled = true;\n",
              "\n",
              "  if (!files) {\n",
              "    return {\n",
              "      response: {\n",
              "        action: 'complete',\n",
              "      }\n",
              "    };\n",
              "  }\n",
              "\n",
              "  for (const file of files) {\n",
              "    const li = document.createElement('li');\n",
              "    li.append(span(file.name, {fontWeight: 'bold'}));\n",
              "    li.append(span(\n",
              "        `(${file.type || 'n/a'}) - ${file.size} bytes, ` +\n",
              "        `last modified: ${\n",
              "            file.lastModifiedDate ? file.lastModifiedDate.toLocaleDateString() :\n",
              "                                    'n/a'} - `));\n",
              "    const percent = span('0% done');\n",
              "    li.appendChild(percent);\n",
              "\n",
              "    outputElement.appendChild(li);\n",
              "\n",
              "    const fileDataPromise = new Promise((resolve) => {\n",
              "      const reader = new FileReader();\n",
              "      reader.onload = (e) => {\n",
              "        resolve(e.target.result);\n",
              "      };\n",
              "      reader.readAsArrayBuffer(file);\n",
              "    });\n",
              "    // Wait for the data to be ready.\n",
              "    let fileData = yield {\n",
              "      promise: fileDataPromise,\n",
              "      response: {\n",
              "        action: 'continue',\n",
              "      }\n",
              "    };\n",
              "\n",
              "    // Use a chunked sending to avoid message size limits. See b/62115660.\n",
              "    let position = 0;\n",
              "    do {\n",
              "      const length = Math.min(fileData.byteLength - position, MAX_PAYLOAD_SIZE);\n",
              "      const chunk = new Uint8Array(fileData, position, length);\n",
              "      position += length;\n",
              "\n",
              "      const base64 = btoa(String.fromCharCode.apply(null, chunk));\n",
              "      yield {\n",
              "        response: {\n",
              "          action: 'append',\n",
              "          file: file.name,\n",
              "          data: base64,\n",
              "        },\n",
              "      };\n",
              "\n",
              "      let percentDone = fileData.byteLength === 0 ?\n",
              "          100 :\n",
              "          Math.round((position / fileData.byteLength) * 100);\n",
              "      percent.textContent = `${percentDone}% done`;\n",
              "\n",
              "    } while (position < fileData.byteLength);\n",
              "  }\n",
              "\n",
              "  // All done.\n",
              "  yield {\n",
              "    response: {\n",
              "      action: 'complete',\n",
              "    }\n",
              "  };\n",
              "}\n",
              "\n",
              "scope.google = scope.google || {};\n",
              "scope.google.colab = scope.google.colab || {};\n",
              "scope.google.colab._files = {\n",
              "  _uploadFiles,\n",
              "  _uploadFilesContinue,\n",
              "};\n",
              "})(self);\n",
              "</script> "
            ],
            "text/plain": [
              "<IPython.core.display.HTML object>"
            ]
          },
          "metadata": {},
          "output_type": "display_data"
        },
        {
          "name": "stdout",
          "output_type": "stream",
          "text": [
            "Saving GSE139242_gene_counts.csv to GSE139242_gene_counts.csv\n"
          ]
        }
      ],
      "source": [
        "# A way to bring in Data\n",
        "#from google.colab import files\n",
        "#uploaded = files.upload()"
      ]
    },
    {
      "cell_type": "markdown",
      "metadata": {
        "id": "dYFsaI1lK8yv"
      },
      "source": [
        "We're loading the count data, samples in rows and genes in the columns."
      ]
    },
    {
      "cell_type": "code",
      "execution_count": 13,
      "metadata": {
        "colab": {
          "base_uri": "https://localhost:8080/",
          "height": 581
        },
        "id": "G4nPp8WYIp8T",
        "outputId": "e20b1f93-608f-48fb-f0ad-1d20761ffdaf"
      },
      "outputs": [
        {
          "data": {
            "text/html": [
              "<div>\n",
              "<style scoped>\n",
              "    .dataframe tbody tr th:only-of-type {\n",
              "        vertical-align: middle;\n",
              "    }\n",
              "\n",
              "    .dataframe tbody tr th {\n",
              "        vertical-align: top;\n",
              "    }\n",
              "\n",
              "    .dataframe thead th {\n",
              "        text-align: right;\n",
              "    }\n",
              "</style>\n",
              "<table border=\"1\" class=\"dataframe\">\n",
              "  <thead>\n",
              "    <tr style=\"text-align: right;\">\n",
              "      <th></th>\n",
              "      <th>A1BG</th>\n",
              "      <th>A1BG-AS1</th>\n",
              "      <th>A2M</th>\n",
              "      <th>A2M-AS1</th>\n",
              "      <th>A2ML1</th>\n",
              "      <th>...</th>\n",
              "      <th>ZXDC</th>\n",
              "      <th>ZYG11B</th>\n",
              "      <th>ZYX</th>\n",
              "      <th>ZZEF1</th>\n",
              "      <th>ZZZ3</th>\n",
              "    </tr>\n",
              "  </thead>\n",
              "  <tbody>\n",
              "    <tr>\n",
              "      <th>CD4_thymus_1</th>\n",
              "      <td>52.0</td>\n",
              "      <td>232.0</td>\n",
              "      <td>47.0</td>\n",
              "      <td>99.0</td>\n",
              "      <td>3.0</td>\n",
              "      <td>...</td>\n",
              "      <td>1750.0</td>\n",
              "      <td>4785.0</td>\n",
              "      <td>542.0</td>\n",
              "      <td>3567.0</td>\n",
              "      <td>6686.0</td>\n",
              "    </tr>\n",
              "    <tr>\n",
              "      <th>CD4_thymus_2</th>\n",
              "      <td>46.0</td>\n",
              "      <td>308.0</td>\n",
              "      <td>68.0</td>\n",
              "      <td>89.0</td>\n",
              "      <td>23.0</td>\n",
              "      <td>...</td>\n",
              "      <td>3233.0</td>\n",
              "      <td>6200.0</td>\n",
              "      <td>1706.0</td>\n",
              "      <td>6227.0</td>\n",
              "      <td>8707.0</td>\n",
              "    </tr>\n",
              "    <tr>\n",
              "      <th>CD4_thymus_3</th>\n",
              "      <td>175.0</td>\n",
              "      <td>752.0</td>\n",
              "      <td>72.0</td>\n",
              "      <td>249.0</td>\n",
              "      <td>41.0</td>\n",
              "      <td>...</td>\n",
              "      <td>5627.0</td>\n",
              "      <td>13077.0</td>\n",
              "      <td>1261.0</td>\n",
              "      <td>8991.0</td>\n",
              "      <td>18927.0</td>\n",
              "    </tr>\n",
              "    <tr>\n",
              "      <th>CD4_thymus_4</th>\n",
              "      <td>63.0</td>\n",
              "      <td>360.0</td>\n",
              "      <td>38.0</td>\n",
              "      <td>130.0</td>\n",
              "      <td>100.0</td>\n",
              "      <td>...</td>\n",
              "      <td>2928.0</td>\n",
              "      <td>4221.0</td>\n",
              "      <td>1532.0</td>\n",
              "      <td>5731.0</td>\n",
              "      <td>6987.0</td>\n",
              "    </tr>\n",
              "    <tr>\n",
              "      <th>CD4_bloodinfant_1</th>\n",
              "      <td>16.0</td>\n",
              "      <td>162.0</td>\n",
              "      <td>1.0</td>\n",
              "      <td>408.0</td>\n",
              "      <td>0.0</td>\n",
              "      <td>...</td>\n",
              "      <td>3191.0</td>\n",
              "      <td>5560.0</td>\n",
              "      <td>1779.0</td>\n",
              "      <td>5541.0</td>\n",
              "      <td>10476.0</td>\n",
              "    </tr>\n",
              "    <tr>\n",
              "      <th>CD4_bloodinfant_2</th>\n",
              "      <td>5.0</td>\n",
              "      <td>96.0</td>\n",
              "      <td>5.0</td>\n",
              "      <td>320.0</td>\n",
              "      <td>0.0</td>\n",
              "      <td>...</td>\n",
              "      <td>3604.0</td>\n",
              "      <td>5986.0</td>\n",
              "      <td>2893.0</td>\n",
              "      <td>8669.0</td>\n",
              "      <td>11672.0</td>\n",
              "    </tr>\n",
              "    <tr>\n",
              "      <th>CD4_bloodinfant_3</th>\n",
              "      <td>6.0</td>\n",
              "      <td>184.0</td>\n",
              "      <td>4.0</td>\n",
              "      <td>267.0</td>\n",
              "      <td>0.0</td>\n",
              "      <td>...</td>\n",
              "      <td>2907.0</td>\n",
              "      <td>5408.0</td>\n",
              "      <td>1721.0</td>\n",
              "      <td>6909.0</td>\n",
              "      <td>8751.0</td>\n",
              "    </tr>\n",
              "    <tr>\n",
              "      <th>CD4_bloodinfant_4</th>\n",
              "      <td>18.0</td>\n",
              "      <td>96.0</td>\n",
              "      <td>9.0</td>\n",
              "      <td>1471.0</td>\n",
              "      <td>0.0</td>\n",
              "      <td>...</td>\n",
              "      <td>2625.0</td>\n",
              "      <td>3391.0</td>\n",
              "      <td>998.0</td>\n",
              "      <td>7253.0</td>\n",
              "      <td>7152.0</td>\n",
              "    </tr>\n",
              "    <tr>\n",
              "      <th>CD8_thymus_1</th>\n",
              "      <td>47.0</td>\n",
              "      <td>806.0</td>\n",
              "      <td>120.0</td>\n",
              "      <td>166.0</td>\n",
              "      <td>291.0</td>\n",
              "      <td>...</td>\n",
              "      <td>2561.0</td>\n",
              "      <td>3149.0</td>\n",
              "      <td>3201.0</td>\n",
              "      <td>8527.0</td>\n",
              "      <td>5869.0</td>\n",
              "    </tr>\n",
              "    <tr>\n",
              "      <th>CD8_thymus_2</th>\n",
              "      <td>9.0</td>\n",
              "      <td>226.0</td>\n",
              "      <td>89.0</td>\n",
              "      <td>18.0</td>\n",
              "      <td>42.0</td>\n",
              "      <td>...</td>\n",
              "      <td>576.0</td>\n",
              "      <td>935.0</td>\n",
              "      <td>746.0</td>\n",
              "      <td>1851.0</td>\n",
              "      <td>1868.0</td>\n",
              "    </tr>\n",
              "    <tr>\n",
              "      <th>CD8_thymus_3</th>\n",
              "      <td>46.0</td>\n",
              "      <td>656.0</td>\n",
              "      <td>135.0</td>\n",
              "      <td>93.0</td>\n",
              "      <td>288.0</td>\n",
              "      <td>...</td>\n",
              "      <td>2277.0</td>\n",
              "      <td>3819.0</td>\n",
              "      <td>2151.0</td>\n",
              "      <td>6491.0</td>\n",
              "      <td>7548.0</td>\n",
              "    </tr>\n",
              "    <tr>\n",
              "      <th>CD8_thymus_4</th>\n",
              "      <td>10.0</td>\n",
              "      <td>173.0</td>\n",
              "      <td>88.0</td>\n",
              "      <td>28.0</td>\n",
              "      <td>19.0</td>\n",
              "      <td>...</td>\n",
              "      <td>580.0</td>\n",
              "      <td>1029.0</td>\n",
              "      <td>633.0</td>\n",
              "      <td>1773.0</td>\n",
              "      <td>2191.0</td>\n",
              "    </tr>\n",
              "    <tr>\n",
              "      <th>CD8_thymus_5</th>\n",
              "      <td>47.0</td>\n",
              "      <td>491.0</td>\n",
              "      <td>291.0</td>\n",
              "      <td>96.0</td>\n",
              "      <td>130.0</td>\n",
              "      <td>...</td>\n",
              "      <td>2143.0</td>\n",
              "      <td>2258.0</td>\n",
              "      <td>2109.0</td>\n",
              "      <td>7029.0</td>\n",
              "      <td>4390.0</td>\n",
              "    </tr>\n",
              "    <tr>\n",
              "      <th>CD8_bloodinfant_1</th>\n",
              "      <td>3.0</td>\n",
              "      <td>21.0</td>\n",
              "      <td>4.0</td>\n",
              "      <td>5.0</td>\n",
              "      <td>0.0</td>\n",
              "      <td>...</td>\n",
              "      <td>185.0</td>\n",
              "      <td>187.0</td>\n",
              "      <td>492.0</td>\n",
              "      <td>583.0</td>\n",
              "      <td>315.0</td>\n",
              "    </tr>\n",
              "    <tr>\n",
              "      <th>CD8_bloodinfant_2</th>\n",
              "      <td>1.0</td>\n",
              "      <td>38.0</td>\n",
              "      <td>0.0</td>\n",
              "      <td>6.0</td>\n",
              "      <td>0.0</td>\n",
              "      <td>...</td>\n",
              "      <td>193.0</td>\n",
              "      <td>288.0</td>\n",
              "      <td>370.0</td>\n",
              "      <td>512.0</td>\n",
              "      <td>336.0</td>\n",
              "    </tr>\n",
              "    <tr>\n",
              "      <th>CD8_bloodinfant_3</th>\n",
              "      <td>1.0</td>\n",
              "      <td>14.0</td>\n",
              "      <td>0.0</td>\n",
              "      <td>4.0</td>\n",
              "      <td>0.0</td>\n",
              "      <td>...</td>\n",
              "      <td>149.0</td>\n",
              "      <td>88.0</td>\n",
              "      <td>157.0</td>\n",
              "      <td>309.0</td>\n",
              "      <td>220.0</td>\n",
              "    </tr>\n",
              "  </tbody>\n",
              "</table>\n",
              "<p>16 rows × 16031 columns</p>\n",
              "</div>"
            ],
            "text/plain": [
              "                    A1BG  A1BG-AS1    A2M  A2M-AS1  A2ML1  ...    ZXDC  \\\n",
              "CD4_thymus_1        52.0     232.0   47.0     99.0    3.0  ...  1750.0   \n",
              "CD4_thymus_2        46.0     308.0   68.0     89.0   23.0  ...  3233.0   \n",
              "CD4_thymus_3       175.0     752.0   72.0    249.0   41.0  ...  5627.0   \n",
              "CD4_thymus_4        63.0     360.0   38.0    130.0  100.0  ...  2928.0   \n",
              "CD4_bloodinfant_1   16.0     162.0    1.0    408.0    0.0  ...  3191.0   \n",
              "CD4_bloodinfant_2    5.0      96.0    5.0    320.0    0.0  ...  3604.0   \n",
              "CD4_bloodinfant_3    6.0     184.0    4.0    267.0    0.0  ...  2907.0   \n",
              "CD4_bloodinfant_4   18.0      96.0    9.0   1471.0    0.0  ...  2625.0   \n",
              "CD8_thymus_1        47.0     806.0  120.0    166.0  291.0  ...  2561.0   \n",
              "CD8_thymus_2         9.0     226.0   89.0     18.0   42.0  ...   576.0   \n",
              "CD8_thymus_3        46.0     656.0  135.0     93.0  288.0  ...  2277.0   \n",
              "CD8_thymus_4        10.0     173.0   88.0     28.0   19.0  ...   580.0   \n",
              "CD8_thymus_5        47.0     491.0  291.0     96.0  130.0  ...  2143.0   \n",
              "CD8_bloodinfant_1    3.0      21.0    4.0      5.0    0.0  ...   185.0   \n",
              "CD8_bloodinfant_2    1.0      38.0    0.0      6.0    0.0  ...   193.0   \n",
              "CD8_bloodinfant_3    1.0      14.0    0.0      4.0    0.0  ...   149.0   \n",
              "\n",
              "                    ZYG11B     ZYX   ZZEF1     ZZZ3  \n",
              "CD4_thymus_1        4785.0   542.0  3567.0   6686.0  \n",
              "CD4_thymus_2        6200.0  1706.0  6227.0   8707.0  \n",
              "CD4_thymus_3       13077.0  1261.0  8991.0  18927.0  \n",
              "CD4_thymus_4        4221.0  1532.0  5731.0   6987.0  \n",
              "CD4_bloodinfant_1   5560.0  1779.0  5541.0  10476.0  \n",
              "CD4_bloodinfant_2   5986.0  2893.0  8669.0  11672.0  \n",
              "CD4_bloodinfant_3   5408.0  1721.0  6909.0   8751.0  \n",
              "CD4_bloodinfant_4   3391.0   998.0  7253.0   7152.0  \n",
              "CD8_thymus_1        3149.0  3201.0  8527.0   5869.0  \n",
              "CD8_thymus_2         935.0   746.0  1851.0   1868.0  \n",
              "CD8_thymus_3        3819.0  2151.0  6491.0   7548.0  \n",
              "CD8_thymus_4        1029.0   633.0  1773.0   2191.0  \n",
              "CD8_thymus_5        2258.0  2109.0  7029.0   4390.0  \n",
              "CD8_bloodinfant_1    187.0   492.0   583.0    315.0  \n",
              "CD8_bloodinfant_2    288.0   370.0   512.0    336.0  \n",
              "CD8_bloodinfant_3     88.0   157.0   309.0    220.0  \n",
              "\n",
              "[16 rows x 16031 columns]"
            ]
          },
          "execution_count": 13,
          "metadata": {},
          "output_type": "execute_result"
        }
      ],
      "source": [
        "#GSE139242counts = pd.read_csv('GSE139242_gene_counts.csv',index_col=0).transpose()\n",
        "import pandas as pd\n",
        "\n",
        "# Specify the file path\n",
        "file_path = r\"C:\\Users\\Kathleen\\OneDrive\\Documents\\Bioinformatics Spring 2024\\Homework\\Homework 9\\GSE139242_gene_counts.csv\"\n",
        "\n",
        "# Read the gene counts file\n",
        "GSE139242counts = pd.read_csv(file_path, index_col=0).transpose()\n",
        "GSE139242counts"
      ]
    },
    {
      "cell_type": "markdown",
      "metadata": {
        "id": "IIraNK8FK7qK"
      },
      "source": [
        "We're also loading in 6 gene modules calculated from the Louvain method, based on a high variance, high Pearson correlation network (similar to what we calculated in HW8)."
      ]
    },
    {
      "cell_type": "code",
      "execution_count": 14,
      "metadata": {
        "id": "5D4KNVqJJgwg"
      },
      "outputs": [],
      "source": [
        "# Path to the base filename for your files\n",
        "#base_filename = '/content/drive/My Drive/Colab Notebooks/Pabio536_2023/GeneModule_module_'\n",
        "base_filename = 'Thymus_CD4vCD8_GeneModule_module_'\n",
        "# Load the modules\n",
        "Thymus_CD4vCD8_modules = []\n",
        "for i in range(1, 7):\n",
        "    module = pd.read_csv(f\"{base_filename}{i}.csv\", index_col=0)\n",
        "    Thymus_CD4vCD8_modules.append(module.index.tolist())"
      ]
    },
    {
      "cell_type": "markdown",
      "metadata": {
        "id": "A_QYRef6Krvm"
      },
      "source": [
        "#Question 1"
      ]
    },
    {
      "cell_type": "markdown",
      "metadata": {
        "id": "MIDq9kdvKvBI"
      },
      "source": [
        "Use PCA to calculate the eigengene values of each of the 6 gene modules. You should have as your final answer a data frame with the modules in the columns and each sample as a row."
      ]
    },
    {
      "cell_type": "code",
      "execution_count": 15,
      "metadata": {
        "id": "L5LRyeRsy_Hh"
      },
      "outputs": [
        {
          "name": "stdout",
          "output_type": "stream",
          "text": [
            "                      MYH14   TBC1D3D     CCSER1   FILIP1L     PRTN3  HNRNPCP2\n",
            "CD4_thymus_1      -18289.99 -19514.88  114432.80 -12862.41    820.54   1688.67\n",
            "CD4_thymus_2       -5723.27 -21919.48  161020.50 -11785.56  14265.44   1753.75\n",
            "CD4_thymus_3      -14656.38 -21665.73  190436.81 -11807.10   1897.90   2220.75\n",
            "CD4_thymus_4       -9799.17 -22247.07  130473.25 -13420.75   4974.58   1144.92\n",
            "CD4_bloodinfant_1 -10039.93 -18393.97  -51890.00 -13229.90  -2877.76   -502.83\n",
            "CD4_bloodinfant_2   9027.67  -3438.92  -47466.77 -12912.75   8381.91   -475.97\n",
            "CD4_bloodinfant_3 -11726.26 -22082.48  -20847.26 -12992.46  -2773.49   -510.00\n",
            "CD4_bloodinfant_4  -4856.29  -5607.05  -59253.58 -13607.41  -2704.00   -584.24\n",
            "CD8_thymus_1       49560.85  20387.09  -53209.08  42926.23  -2495.84   -563.40\n",
            "CD8_thymus_2       -4277.14  20169.31  -61022.29   4712.53  -2984.41   -600.16\n",
            "CD8_thymus_3       24978.78  13859.62  -51916.70  57765.84  -2355.36   -563.25\n",
            "CD8_thymus_4       -4105.94  15778.71  -60883.35   7997.39  -2708.56   -611.57\n",
            "CD8_thymus_5       39947.38  59920.21  -53157.52  23365.51  -2543.77   -563.35\n",
            "CD8_bloodinfant_1 -12915.29   2816.01  -48844.50 -10971.55  -2864.83   -610.16\n",
            "CD8_bloodinfant_2 -13674.17    160.86  -24706.04 -11281.04  -3006.55   -611.57\n",
            "CD8_bloodinfant_3 -13450.84   1777.78  -63166.28 -11896.57  -3025.80   -611.57\n"
          ]
        }
      ],
      "source": [
        "# Import the necessary libraries\n",
        "from sklearn.decomposition import PCA\n",
        "\n",
        "# Create an empty dataframe to store the eigengene values\n",
        "eigengene_df = pd.DataFrame()\n",
        "\n",
        "# Iterate over each module\n",
        "for module in Thymus_CD4vCD8_modules:\n",
        "    # Subset the GSE139242counts dataframe to include only the genes in the module\n",
        "    module_counts = GSE139242counts.loc[:, module]\n",
        "    \n",
        "    # Perform PCA on the subsetted dataframe\n",
        "    pca = PCA(n_components=1)\n",
        "    eigengene = pca.fit_transform(module_counts)\n",
        "    \n",
        "    # Add the eigengene values to the eigengene dataframe\n",
        "    eigengene_df[module[0]] = eigengene.flatten()\n",
        "\n",
        "# Set the index of the eigengene dataframe to be the sample names\n",
        "eigengene_df.index = GSE139242counts.index\n",
        "\n",
        "# Print the eigengene dataframe\n",
        "print(eigengene_df)"
      ]
    },
    {
      "cell_type": "code",
      "execution_count": 35,
      "metadata": {},
      "outputs": [
        {
          "data": {
            "text/html": [
              "<div>\n",
              "<style scoped>\n",
              "    .dataframe tbody tr th:only-of-type {\n",
              "        vertical-align: middle;\n",
              "    }\n",
              "\n",
              "    .dataframe tbody tr th {\n",
              "        vertical-align: top;\n",
              "    }\n",
              "\n",
              "    .dataframe thead th {\n",
              "        text-align: right;\n",
              "    }\n",
              "</style>\n",
              "<table border=\"1\" class=\"dataframe\">\n",
              "  <thead>\n",
              "    <tr style=\"text-align: right;\">\n",
              "      <th></th>\n",
              "      <th>MYH14</th>\n",
              "      <th>TBC1D3D</th>\n",
              "      <th>CCSER1</th>\n",
              "      <th>FILIP1L</th>\n",
              "      <th>PRTN3</th>\n",
              "      <th>HNRNPCP2</th>\n",
              "    </tr>\n",
              "  </thead>\n",
              "  <tbody>\n",
              "    <tr>\n",
              "      <th>0</th>\n",
              "      <td>-18289.99</td>\n",
              "      <td>-19514.88</td>\n",
              "      <td>114432.80</td>\n",
              "      <td>-12862.41</td>\n",
              "      <td>820.54</td>\n",
              "      <td>1688.67</td>\n",
              "    </tr>\n",
              "    <tr>\n",
              "      <th>1</th>\n",
              "      <td>-5723.27</td>\n",
              "      <td>-21919.48</td>\n",
              "      <td>161020.50</td>\n",
              "      <td>-11785.56</td>\n",
              "      <td>14265.44</td>\n",
              "      <td>1753.75</td>\n",
              "    </tr>\n",
              "    <tr>\n",
              "      <th>2</th>\n",
              "      <td>-14656.38</td>\n",
              "      <td>-21665.73</td>\n",
              "      <td>190436.81</td>\n",
              "      <td>-11807.10</td>\n",
              "      <td>1897.90</td>\n",
              "      <td>2220.75</td>\n",
              "    </tr>\n",
              "    <tr>\n",
              "      <th>3</th>\n",
              "      <td>-9791.17</td>\n",
              "      <td>-22247.07</td>\n",
              "      <td>130473.25</td>\n",
              "      <td>-13420.75</td>\n",
              "      <td>4974.58</td>\n",
              "      <td>1144.92</td>\n",
              "    </tr>\n",
              "    <tr>\n",
              "      <th>4</th>\n",
              "      <td>-10039.93</td>\n",
              "      <td>-18393.97</td>\n",
              "      <td>-51890.00</td>\n",
              "      <td>-13229.90</td>\n",
              "      <td>-2877.76</td>\n",
              "      <td>-502.83</td>\n",
              "    </tr>\n",
              "    <tr>\n",
              "      <th>5</th>\n",
              "      <td>9027.67</td>\n",
              "      <td>-3438.92</td>\n",
              "      <td>-47466.77</td>\n",
              "      <td>-12912.75</td>\n",
              "      <td>8381.91</td>\n",
              "      <td>-475.97</td>\n",
              "    </tr>\n",
              "    <tr>\n",
              "      <th>6</th>\n",
              "      <td>-11726.26</td>\n",
              "      <td>-22082.48</td>\n",
              "      <td>-20847.26</td>\n",
              "      <td>-12992.46</td>\n",
              "      <td>-2773.49</td>\n",
              "      <td>-510.00</td>\n",
              "    </tr>\n",
              "    <tr>\n",
              "      <th>7</th>\n",
              "      <td>-4856.29</td>\n",
              "      <td>-5607.05</td>\n",
              "      <td>-59253.58</td>\n",
              "      <td>-13607.41</td>\n",
              "      <td>-2704.00</td>\n",
              "      <td>-584.24</td>\n",
              "    </tr>\n",
              "    <tr>\n",
              "      <th>8</th>\n",
              "      <td>49586.93</td>\n",
              "      <td>130473.25</td>\n",
              "      <td>53209.08</td>\n",
              "      <td>42926.23</td>\n",
              "      <td>2495.84</td>\n",
              "      <td>-563.40</td>\n",
              "    </tr>\n",
              "    <tr>\n",
              "      <th>9</th>\n",
              "      <td>-4277.14</td>\n",
              "      <td>20169.31</td>\n",
              "      <td>-61022.29</td>\n",
              "      <td>4712.53</td>\n",
              "      <td>-2984.41</td>\n",
              "      <td>-600.16</td>\n",
              "    </tr>\n",
              "    <tr>\n",
              "      <th>10</th>\n",
              "      <td>24978.78</td>\n",
              "      <td>13859.62</td>\n",
              "      <td>-51916.70</td>\n",
              "      <td>57765.84</td>\n",
              "      <td>-2355.36</td>\n",
              "      <td>-563.25</td>\n",
              "    </tr>\n",
              "    <tr>\n",
              "      <th>11</th>\n",
              "      <td>-4865.49</td>\n",
              "      <td>15778.71</td>\n",
              "      <td>-60883.35</td>\n",
              "      <td>797.39</td>\n",
              "      <td>-2708.56</td>\n",
              "      <td>-611.57</td>\n",
              "    </tr>\n",
              "    <tr>\n",
              "      <th>12</th>\n",
              "      <td>39947.39</td>\n",
              "      <td>20837.09</td>\n",
              "      <td>53209.08</td>\n",
              "      <td>42926.23</td>\n",
              "      <td>2495.84</td>\n",
              "      <td>-563.40</td>\n",
              "    </tr>\n",
              "    <tr>\n",
              "      <th>13</th>\n",
              "      <td>-12915.29</td>\n",
              "      <td>2816.01</td>\n",
              "      <td>-48844.50</td>\n",
              "      <td>-10971.55</td>\n",
              "      <td>-2864.83</td>\n",
              "      <td>-610.16</td>\n",
              "    </tr>\n",
              "    <tr>\n",
              "      <th>14</th>\n",
              "      <td>-13674.17</td>\n",
              "      <td>160.86</td>\n",
              "      <td>-24706.04</td>\n",
              "      <td>-11281.04</td>\n",
              "      <td>-3006.55</td>\n",
              "      <td>-611.57</td>\n",
              "    </tr>\n",
              "    <tr>\n",
              "      <th>15</th>\n",
              "      <td>-13450.84</td>\n",
              "      <td>1777.78</td>\n",
              "      <td>-63166.28</td>\n",
              "      <td>-11896.57</td>\n",
              "      <td>-3025.80</td>\n",
              "      <td>-611.57</td>\n",
              "    </tr>\n",
              "  </tbody>\n",
              "</table>\n",
              "</div>"
            ],
            "text/plain": [
              "       MYH14    TBC1D3D     CCSER1   FILIP1L     PRTN3  HNRNPCP2\n",
              "0  -18289.99  -19514.88  114432.80 -12862.41    820.54   1688.67\n",
              "1   -5723.27  -21919.48  161020.50 -11785.56  14265.44   1753.75\n",
              "2  -14656.38  -21665.73  190436.81 -11807.10   1897.90   2220.75\n",
              "3   -9791.17  -22247.07  130473.25 -13420.75   4974.58   1144.92\n",
              "4  -10039.93  -18393.97  -51890.00 -13229.90  -2877.76   -502.83\n",
              "5    9027.67   -3438.92  -47466.77 -12912.75   8381.91   -475.97\n",
              "6  -11726.26  -22082.48  -20847.26 -12992.46  -2773.49   -510.00\n",
              "7   -4856.29   -5607.05  -59253.58 -13607.41  -2704.00   -584.24\n",
              "8   49586.93  130473.25   53209.08  42926.23   2495.84   -563.40\n",
              "9   -4277.14   20169.31  -61022.29   4712.53  -2984.41   -600.16\n",
              "10  24978.78   13859.62  -51916.70  57765.84  -2355.36   -563.25\n",
              "11  -4865.49   15778.71  -60883.35    797.39  -2708.56   -611.57\n",
              "12  39947.39   20837.09   53209.08  42926.23   2495.84   -563.40\n",
              "13 -12915.29    2816.01  -48844.50 -10971.55  -2864.83   -610.16\n",
              "14 -13674.17     160.86  -24706.04 -11281.04  -3006.55   -611.57\n",
              "15 -13450.84    1777.78  -63166.28 -11896.57  -3025.80   -611.57"
            ]
          },
          "execution_count": 35,
          "metadata": {},
          "output_type": "execute_result"
        }
      ],
      "source": [
        "eigengene_df"
      ]
    },
    {
      "cell_type": "code",
      "execution_count": null,
      "metadata": {
        "id": "kudlP6OKy--f"
      },
      "outputs": [],
      "source": []
    },
    {
      "cell_type": "markdown",
      "metadata": {
        "id": "cSkPRwt2PWgi"
      },
      "source": [
        "# Question 2"
      ]
    },
    {
      "cell_type": "markdown",
      "metadata": {
        "id": "RixdoJsRROPn"
      },
      "source": [
        "Use a clustermap to plot the eigengene values that you generated in Q1. Use a  diverging colormap with discrete bins and try to make sure that the neutral color (i.e. the color in the middle of the diverging color scale) aligns with the value of 0 in the colormap.\n",
        "\n",
        "\n",
        "\n"
      ]
    },
    {
      "cell_type": "code",
      "execution_count": 17,
      "metadata": {
        "id": "zjtgMlr-zLph"
      },
      "outputs": [
        {
          "data": {
            "text/plain": [
              "<seaborn.matrix.ClusterGrid at 0x1c7e2c4ca10>"
            ]
          },
          "execution_count": 17,
          "metadata": {},
          "output_type": "execute_result"
        },
        {
          "data": {
            "image/png": "[encoded data removed]",
            "text/plain": [
              "<Figure size 1000x1000 with 4 Axes>"
            ]
          },
          "metadata": {},
          "output_type": "display_data"
        }
      ],
      "source": [
        "import seaborn as sns\n",
        "\n",
        "# Create a clustermap of the eigengene values\n",
        "sns.clustermap(eigengene_df, cmap='RdBu_r', center=0, col_cluster=False)\n",
        "\n",
        "# Show the plot\n",
        "plt.show()"
      ]
    },
    {
      "cell_type": "markdown",
      "metadata": {},
      "source": [
        "\n",
        "\n",
        "Which module is the most informative of the difference in phenotype between CD4 vs CD8 in thymus (i.e. the most significant difference in the eigengene values between CD4 vs. CD8 in thymus)? *Hint*: for this exercise, you also can use a t-test to help you compare the eigengene values between samples for each module and use the p-values to help you decide which module to pick.\n",
        "\n",
        "\n",
        "\n",
        "\n"
      ]
    },
    {
      "cell_type": "code",
      "execution_count": 37,
      "metadata": {},
      "outputs": [
        {
          "name": "stdout",
          "output_type": "stream",
          "text": [
            "Index(['0', '1', '2', '3', '4', '5', '6', '7', '8', '9', '10', '11', '12',\n",
            "       '13', '14', '15'],\n",
            "      dtype='object')\n"
          ]
        }
      ],
      "source": [
        "# Print the indices of the eigengene dataframe to check their format\n",
        "print(eigengene_df.index)\n"
      ]
    },
    {
      "cell_type": "markdown",
      "metadata": {
        "id": "SHTotQpizMNf"
      },
      "source": []
    },
    {
      "cell_type": "code",
      "execution_count": 38,
      "metadata": {},
      "outputs": [
        {
          "name": "stdout",
          "output_type": "stream",
          "text": [
            "                      MYH14    TBC1D3D     CCSER1   FILIP1L     PRTN3  \\\n",
            "CD4_thymus_1      -18289.99  -19514.88  114432.80 -12862.41    820.54   \n",
            "CD4_thymus_2       -5723.27  -21919.48  161020.50 -11785.56  14265.44   \n",
            "CD4_thymus_3      -14656.38  -21665.73  190436.81 -11807.10   1897.90   \n",
            "CD4_thymus_4       -9791.17  -22247.07  130473.25 -13420.75   4974.58   \n",
            "CD4_bloodinfant_1 -10039.93  -18393.97  -51890.00 -13229.90  -2877.76   \n",
            "CD4_bloodinfant_2   9027.67   -3438.92  -47466.77 -12912.75   8381.91   \n",
            "CD4_bloodinfant_3 -11726.26  -22082.48  -20847.26 -12992.46  -2773.49   \n",
            "CD4_bloodinfant_4  -4856.29   -5607.05  -59253.58 -13607.41  -2704.00   \n",
            "CD8_thymus_1       49586.93  130473.25   53209.08  42926.23   2495.84   \n",
            "CD8_thymus_2       -4277.14   20169.31  -61022.29   4712.53  -2984.41   \n",
            "CD8_thymus_3       24978.78   13859.62  -51916.70  57765.84  -2355.36   \n",
            "CD8_thymus_4       -4865.49   15778.71  -60883.35    797.39  -2708.56   \n",
            "CD8_thymus_5       39947.39   20837.09   53209.08  42926.23   2495.84   \n",
            "CD8_bloodinfant_1 -12915.29    2816.01  -48844.50 -10971.55  -2864.83   \n",
            "CD8_bloodinfant_2 -13674.17     160.86  -24706.04 -11281.04  -3006.55   \n",
            "CD8_bloodinfant_3 -13450.84    1777.78  -63166.28 -11896.57  -3025.80   \n",
            "\n",
            "                   HNRNPCP2  \n",
            "CD4_thymus_1        1688.67  \n",
            "CD4_thymus_2        1753.75  \n",
            "CD4_thymus_3        2220.75  \n",
            "CD4_thymus_4        1144.92  \n",
            "CD4_bloodinfant_1   -502.83  \n",
            "CD4_bloodinfant_2   -475.97  \n",
            "CD4_bloodinfant_3   -510.00  \n",
            "CD4_bloodinfant_4   -584.24  \n",
            "CD8_thymus_1        -563.40  \n",
            "CD8_thymus_2        -600.16  \n",
            "CD8_thymus_3        -563.25  \n",
            "CD8_thymus_4        -611.57  \n",
            "CD8_thymus_5        -563.40  \n",
            "CD8_bloodinfant_1   -610.16  \n",
            "CD8_bloodinfant_2   -611.57  \n",
            "CD8_bloodinfant_3   -611.57  \n"
          ]
        }
      ],
      "source": [
        "# Correct sample names\n",
        "sample_names = ['CD4_thymus_1', 'CD4_thymus_2', 'CD4_thymus_3', 'CD4_thymus_4', \n",
        "                'CD4_bloodinfant_1', 'CD4_bloodinfant_2', 'CD4_bloodinfant_3', 'CD4_bloodinfant_4', \n",
        "                'CD8_thymus_1', 'CD8_thymus_2', 'CD8_thymus_3', 'CD8_thymus_4', 'CD8_thymus_5', \n",
        "                'CD8_bloodinfant_1', 'CD8_bloodinfant_2', 'CD8_bloodinfant_3']\n",
        "\n",
        "# Reassign the indices to the dataframe\n",
        "eigengene_df.index = sample_names\n",
        "\n",
        "# Print the eigengene dataframe to verify the changes\n",
        "print(eigengene_df)\n"
      ]
    },
    {
      "cell_type": "code",
      "execution_count": 40,
      "metadata": {},
      "outputs": [
        {
          "name": "stdout",
          "output_type": "stream",
          "text": [
            "T-test results for MYH14 in thymus samples:\n",
            "T-statistic: -2.571711018176832\n",
            "P-value: 0.036915674243855306\n",
            "\n",
            "T-test results for TBC1D3D in thymus samples:\n",
            "T-statistic: -2.401673735128096\n",
            "P-value: 0.047349576748458334\n",
            "\n",
            "T-test results for CCSER1 in thymus samples:\n",
            "T-statistic: 4.742519493853209\n",
            "P-value: 0.002101707331526231\n",
            "\n",
            "T-test results for FILIP1L in thymus samples:\n",
            "T-statistic: -3.271971957710094\n",
            "P-value: 0.01363718181961601\n",
            "\n",
            "T-test results for PRTN3 in thymus samples:\n",
            "T-statistic: 2.0026915422079306\n",
            "P-value: 0.08528013020287623\n",
            "\n",
            "T-test results for HNRNPCP2 in thymus samples:\n",
            "T-statistic: 11.774085491895471\n",
            "P-value: 7.222594811843176e-06\n",
            "\n"
          ]
        }
      ],
      "source": [
        "import scipy.stats as stats\n",
        "\n",
        "# List of module names\n",
        "modules = ['MYH14', 'TBC1D3D', 'CCSER1', 'FILIP1L', 'PRTN3', 'HNRNPCP2']\n",
        "\n",
        "# Dictionary to store the results\n",
        "results = {}\n",
        "\n",
        "# Perform t-test for each module\n",
        "for module in modules:\n",
        "    cd4_thymus = eigengene_df.loc[eigengene_df.index.str.contains('CD4_thymus'), module]\n",
        "    cd8_thymus = eigengene_df.loc[eigengene_df.index.str.contains('CD8_thymus'), module]\n",
        "    \n",
        "    # Perform a t-test to compare the means of CD4 and CD8 in thymus samples\n",
        "    t_stat, p_value = stats.ttest_ind(cd4_thymus, cd8_thymus)\n",
        "    \n",
        "    # Store the results\n",
        "    results[module] = {'T-statistic': t_stat, 'P-value': p_value}\n",
        "\n",
        "# Print the results for all modules\n",
        "for module, result in results.items():\n",
        "    print(f'T-test results for {module} in thymus samples:')\n",
        "    print(f\"T-statistic: {result['T-statistic']}\")\n",
        "    print(f\"P-value: {result['P-value']}\\n\")\n"
      ]
    },
    {
      "cell_type": "markdown",
      "metadata": {},
      "source": [
        "\n",
        "\n",
        "Which module is the most informative of the difference in phenotype between CD4 vs CD8 in thymus (i.e. the most significant difference in the eigengene values between CD4 vs. CD8 in thymus)? *Hint*: for this exercise, you also can use a t-test to help you compare the eigengene values between samples for each module and use the p-values to help you decide which module to pick.\n",
        "\n",
        "\n",
        "\n",
        "\n"
      ]
    },
    {
      "cell_type": "markdown",
      "metadata": {},
      "source": [
        "## Answer \n",
        "Based on the t-test results, the module with the most significant difference in phenotype between CD4 and CD8 in the thymus is HNRNPCP2, as it has the lowest p-value (7.222594811843176e-06), indicating the most significant difference in eigengene values between CD4 and CD8 samples in the thymus"
      ]
    },
    {
      "cell_type": "markdown",
      "metadata": {},
      "source": [
        "For this module, HNRNPCO2 do the eigengene values in the blood samples also show a qualitatively similar difference between CD4 and CD8?"
      ]
    },
    {
      "cell_type": "code",
      "execution_count": 41,
      "metadata": {},
      "outputs": [
        {
          "name": "stdout",
          "output_type": "stream",
          "text": [
            "T-test results for HNRNPCP2 in blood samples:\n",
            "T-statistic: 3.384547805733001\n",
            "P-value: 0.019577049544529882\n"
          ]
        }
      ],
      "source": [
        "# Extract eigengene values for HNRNPCP2 in blood samples\n",
        "hnrnpcp2_cd4_blood = eigengene_df.loc[eigengene_df.index.str.contains('CD4_blood'), 'HNRNPCP2']\n",
        "hnrnpcp2_cd8_blood = eigengene_df.loc[eigengene_df.index.str.contains('CD8_blood'), 'HNRNPCP2']\n",
        "\n",
        "# Perform a t-test to compare the means of CD4 and CD8 in blood samples\n",
        "t_stat_blood, p_value_blood = stats.ttest_ind(hnrnpcp2_cd4_blood, hnrnpcp2_cd8_blood)\n",
        "\n",
        "# Print the results\n",
        "print(f'T-test results for HNRNPCP2 in blood samples:')\n",
        "print(f'T-statistic: {t_stat_blood}')\n",
        "print(f'P-value: {p_value_blood}')\n"
      ]
    },
    {
      "cell_type": "markdown",
      "metadata": {},
      "source": [
        "## Answer \n",
        "\n",
        "The t-test results for HNRNPCP2 in blood samples are:\n",
        "\n",
        "- **T-statistic:** 3.384547805733001\n",
        "- **P-value:** 0.019577049544529882\n",
        "\n",
        "These results indicate that there is a statistically significant difference in eigengene values between CD4 and CD8 in the blood samples for the HNRNPCP2 module, as the p-value is less than 0.05.\n",
        "\n",
        "In summary:\n",
        "\n",
        "- The module **HNRNPCP2** shows the most significant difference in eigengene values between CD4 and CD8 in the thymus, with a p-value of \\(7.222594811843176 \\times 10^{-6}\\).\n",
        "- For the same module **HNRNPCP2**, the eigengene values in the blood samples also show a significant difference between CD4 and CD8, with a p-value of 0.019577049544529882.\n",
        "\n",
        "This indicates that HNRNPCP2 is consistently showing significant differences between CD4 and CD8 phenotypes in both thymus and blood samples."
      ]
    },
    {
      "cell_type": "markdown",
      "metadata": {
        "id": "ecbaUBDfSzbC"
      },
      "source": [
        "#Question 3"
      ]
    },
    {
      "cell_type": "markdown",
      "metadata": {
        "id": "FDBOX9LPUE8f"
      },
      "source": [
        "Calculate the degree distribution of the most informative module that you selected from Q2 and plot this distribution as a histogram. Does this module look scale-free?\n",
        "\n"
      ]
    },
    {
      "cell_type": "code",
      "execution_count": 47,
      "metadata": {},
      "outputs": [
        {
          "data": {
            "text/plain": [
              "(array([2., 0., 0., 0., 0., 0., 0., 0., 0., 0., 0., 0., 0., 0., 0., 0., 0.,\n",
              "        0., 0., 2.]),\n",
              " array([2.  , 2.05, 2.1 , 2.15, 2.2 , 2.25, 2.3 , 2.35, 2.4 , 2.45, 2.5 ,\n",
              "        2.55, 2.6 , 2.65, 2.7 , 2.75, 2.8 , 2.85, 2.9 , 2.95, 3.  ]),\n",
              " <BarContainer object of 20 artists>)"
            ]
          },
          "execution_count": 47,
          "metadata": {},
          "output_type": "execute_result"
        },
        {
          "data": {
            "text/plain": [
              "Text(0.5, 0, 'Degree')"
            ]
          },
          "execution_count": 47,
          "metadata": {},
          "output_type": "execute_result"
        },
        {
          "data": {
            "text/plain": [
              "Text(0, 0.5, 'Frequency')"
            ]
          },
          "execution_count": 47,
          "metadata": {},
          "output_type": "execute_result"
        },
        {
          "data": {
            "text/plain": [
              "Text(0.5, 1.0, 'Degree Distribution of HNRNPCP2 Module')"
            ]
          },
          "execution_count": 47,
          "metadata": {},
          "output_type": "execute_result"
        },
        {
          "data": {
            "image/png": "[encoded data removed]",
            "text/plain": [
              "<Figure size 640x480 with 1 Axes>"
            ]
          },
          "metadata": {},
          "output_type": "display_data"
        },
        {
          "data": {
            "text/plain": [
              "[<matplotlib.lines.Line2D at 0x1c7ebd5a2d0>]"
            ]
          },
          "execution_count": 47,
          "metadata": {},
          "output_type": "execute_result"
        },
        {
          "data": {
            "text/plain": [
              "Text(0.5, 0, 'Log Degree')"
            ]
          },
          "execution_count": 47,
          "metadata": {},
          "output_type": "execute_result"
        },
        {
          "data": {
            "text/plain": [
              "Text(0, 0.5, 'Log Frequency')"
            ]
          },
          "execution_count": 47,
          "metadata": {},
          "output_type": "execute_result"
        },
        {
          "data": {
            "text/plain": [
              "Text(0.5, 1.0, 'Log-Log Plot of Degree Distribution of HNRNPCP2 Module')"
            ]
          },
          "execution_count": 47,
          "metadata": {},
          "output_type": "execute_result"
        },
        {
          "data": {
            "image/png": "[encoded data removed]",
            "text/plain": [
              "<Figure size 640x480 with 1 Axes>"
            ]
          },
          "metadata": {},
          "output_type": "display_data"
        }
      ],
      "source": [
        "import pandas as pd\n",
        "import networkx as nx\n",
        "import matplotlib.pyplot as plt\n",
        "\n",
        "# Load the gene interaction data\n",
        "file_pathQ3 = r\"C:\\Users\\Kathleen\\OneDrive\\Documents\\Bioinformatics Spring 2024\\Homework\\Homework 9\\Thymus_CD4vCD8_GeneModule_module_6.csv\"  # Update with your actual file path\n",
        "interaction_df = pd.read_csv(file_pathQ3)\n",
        "\n",
        "\n",
        "\n",
        "# Extract the list of genes and connections\n",
        "HNRNPCP2_module_genes = list(set(interaction_df['source']).union(set(interaction_df['target'])))\n",
        "HNRNPCP2_connections = list(zip(interaction_df['source'], interaction_df['target']))\n",
        "\n",
        "# Create an empty graph\n",
        "G = nx.Graph()\n",
        "\n",
        "# Add nodes and edges to the graph\n",
        "G.add_nodes_from(HNRNPCP2_module_genes)\n",
        "G.add_edges_from(HNRNPCP2_connections)\n",
        "\n",
        "# Calculate the degree of each node\n",
        "degrees = dict(G.degree())\n",
        "\n",
        "# Plot the degree distribution as a histogram\n",
        "plt.hist(degrees.values(), bins=20)\n",
        "plt.xlabel('Degree')\n",
        "plt.ylabel('Frequency')\n",
        "plt.title('Degree Distribution of HNRNPCP2 Module')\n",
        "plt.show()\n",
        "\n",
        "# Check if the module looks scale-free with a log-log plot\n",
        "degree_values = list(degrees.values())\n",
        "plt.loglog(sorted(degree_values, reverse=True), marker=\"o\", linestyle=\"None\")\n",
        "plt.xlabel('Log Degree')\n",
        "plt.ylabel('Log Frequency')\n",
        "plt.title('Log-Log Plot of Degree Distribution of HNRNPCP2 Module')\n",
        "plt.show()\n"
      ]
    },
    {
      "cell_type": "markdown",
      "metadata": {},
      "source": [
        "The degree distribution for the HNRNPCP2 module does not appear to be scale-free. In a scale-free network, we expect to see a power-law distribution, meaning a small number of nodes have a very high degree, while most nodes have a low degree. This would typically result in a log-log plot of the degree distribution that is approximately linear, indicating a power-law relationship.\n",
        "\n",
        "From the histograms and log-log plots  provided, the degree distribution is very uniform, with degrees clustered around specific values without a long tail distribution. This indicates that the network is not scale-free"
      ]
    },
    {
      "cell_type": "markdown",
      "metadata": {
        "id": "KNVaIt5dzZw6"
      },
      "source": [
        "Biologically, the fact that the HNRNPCP2 module does not appear to be scale-free has several implications for the underlying network of gene interactions:\n",
        "\n",
        "1. **Uniform Connectivity**:\n",
        "   - A non-scale-free network suggests that most genes within this module have similar numbers of connections. This implies that no single gene acts as a highly influential hub with significantly more connections than others.\n",
        "\n",
        "2. **Redundancy and Robustness**:\n",
        "   - Networks with uniform connectivity can be more robust to random failures because the loss of any single gene does not disproportionately impact the network. In contrast, in scale-free networks, the loss of a hub gene can severely disrupt the network.\n",
        "\n",
        "3. **Functional Specialization**:\n",
        "   - The genes in the HNRNPCP2 module may have more specialized and evenly distributed roles rather than a hierarchical structure where a few genes control many others. This could mean that each gene's function is more compartmentalized, leading to distinct, yet interconnected pathways.\n",
        "\n",
        "4. **Regulatory Mechanisms**:\n",
        "   - The lack of hub genes suggests that the regulatory mechanisms in this module might be distributed across several genes rather than being centralized. This could indicate a complex and possibly more stable regulatory network where multiple genes share regulatory responsibilities.\n",
        "\n",
        "5. **Evolutionary Insights**:\n",
        "   - Non-scale-free networks might reflect different evolutionary pressures compared to scale-free networks. The more uniform connectivity could be an adaptation to ensure stability and robustness, especially in essential biological processes where failure of key genes must be avoided.\n",
        "\n",
        "Overall, the non-scale-free nature of the HNRNPCP2 module suggests a stable, robust, and possibly functionally specialized network of gene interactions. This can affect how researchers approach the study of this module, focusing on understanding the distributed regulatory mechanisms and the specific roles of individual genes within this more uniform network structure."
      ]
    },
    {
      "cell_type": "markdown",
      "metadata": {
        "id": "e0VgWYSMSzYM"
      },
      "source": [
        "#Question 4"
      ]
    },
    {
      "cell_type": "markdown",
      "metadata": {
        "id": "DLXraTPAqgQa"
      },
      "source": [
        "Import the most informative module from Q2 into Cytoscape and run MCODE. Select the largest subnetwork calculated from MCODE.\n",
        "\n",
        "Run [Metascape](https://metascape.org/gp/index.html#/main/step1) to find GO enrichment for the genes in this subnetwork. What GO process is most highly enriched?\n",
        "\n",
        "Load here an image of the MCODE subnetwork that you generated, as well as the genes associated with the most highly enriched GO process colored a different color."
      ]
    },
    {
      "cell_type": "markdown",
      "metadata": {
        "id": "iEq8q5sEzkSB"
      },
      "source": []
    },
    {
      "cell_type": "markdown",
      "metadata": {
        "id": "k4V85Xp2zkPE"
      },
      "source": []
    },
    {
      "cell_type": "markdown",
      "metadata": {
        "id": "_a4krJNPSzOw"
      },
      "source": [
        "#Question 5"
      ]
    },
    {
      "cell_type": "markdown",
      "metadata": {
        "id": "UxDqnQbA-M8I"
      },
      "source": [
        "Compare the average clustering coefficient values for the most informative module from Q2 that you imported into Cytoscape in Q4, vs. the largest MCODE subnetwork that you calculated in Q4.\n",
        "\n",
        "Which of these networks is more clique-like?\n",
        "\n",
        "\n",
        "*Hint*: You don't have to calculate the clustering coeffient values in python with `networkx`. You can do also it with Cytoscape."
      ]
    },
    {
      "cell_type": "code",
      "execution_count": null,
      "metadata": {
        "id": "MMoJ-tkXw_PC"
      },
      "outputs": [],
      "source": []
    },
    {
      "cell_type": "code",
      "execution_count": null,
      "metadata": {
        "id": "Q0OosY9azsJz"
      },
      "outputs": [],
      "source": []
    },
    {
      "cell_type": "markdown",
      "metadata": {
        "id": "aGppSSY8zrMd"
      },
      "source": []
    }
  ],
  "metadata": {
    "colab": {
      "provenance": []
    },
    "kernelspec": {
      "display_name": "Python 3",
      "name": "python3"
    },
    "language_info": {
      "codemirror_mode": {
        "name": "ipython",
        "version": 3
      },
      "file_extension": ".py",
      "mimetype": "text/x-python",
      "name": "python",
      "nbconvert_exporter": "python",
      "pygments_lexer": "ipython3",
      "version": "3.12.2"
    }
  },
  "nbformat": 4,
  "nbformat_minor": 0
}
